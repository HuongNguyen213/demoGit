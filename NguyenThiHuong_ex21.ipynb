{
 "cells": [
  {
   "cell_type": "markdown",
   "id": "5af8bf16",
   "metadata": {},
   "source": [
    "#### Write a Python program that reads a CSV file \"data.csv\", extracts the email addresses from the \"email\" column; and writes the valid email addresses to a new file \"output.txt\"."
   ]
  },
  {
   "cell_type": "code",
   "execution_count": 37,
   "id": "0fd41844",
   "metadata": {},
   "outputs": [
    {
     "name": "stdout",
     "output_type": "stream",
     "text": [
      "A@gmail.com\n",
      "B123.@gmail.com\n",
      "C@gmail.com\n",
      "ladf@gmail.com\n",
      "\n",
      "\n"
     ]
    }
   ],
   "source": [
    "import csv\n",
    "import re\n",
    "\n",
    "f_input = open('data/datanew.csv', 'r')\n",
    "f_read = csv.DictReader(f_input)\n",
    "valid_email = []\n",
    "\n",
    "for row in f_read:\n",
    "    email = row[\"Email\"]\n",
    "    print(email)\n",
    "    if re.match(r'^[a-zA-Z0-9._-]+@[a-zA-Z0-9-]+\\.[a-zA-Z]{2,}$', email):\n",
    "        valid_email.append(email)\n",
    "\n",
    "f_output = open(\"output1.txt\", \"w+\", encoding=\"utf8\")\n",
    "for email in valid_email:\n",
    "    f_output.write(email+ \"\\n\")"
   ]
  }
 ],
 "metadata": {
  "kernelspec": {
   "display_name": "Python 3 (ipykernel)",
   "language": "python",
   "name": "python3"
  },
  "language_info": {
   "codemirror_mode": {
    "name": "ipython",
    "version": 3
   },
   "file_extension": ".py",
   "mimetype": "text/x-python",
   "name": "python",
   "nbconvert_exporter": "python",
   "pygments_lexer": "ipython3",
   "version": "3.9.13"
  }
 },
 "nbformat": 4,
 "nbformat_minor": 5
}
