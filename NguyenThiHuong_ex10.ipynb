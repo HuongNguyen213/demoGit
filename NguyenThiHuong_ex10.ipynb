{
 "cells": [
  {
   "cell_type": "markdown",
   "id": "6fcade52",
   "metadata": {},
   "source": [
    "# Write a program to count the number of vowels in a string entered by the user.\n"
   ]
  },
  {
   "cell_type": "code",
   "execution_count": 48,
   "id": "4b3fb8ae",
   "metadata": {},
   "outputs": [],
   "source": [
    "def count(lists):\n",
    "    countA = 0\n",
    "    for i in lists.lower():\n",
    "        if i=='a' or i == 'u' or i=='e' or i=='o' or i=='i':\n",
    "            countA +=1\n",
    "    return countA\n",
    "    "
   ]
  },
  {
   "cell_type": "code",
   "execution_count": 49,
   "id": "a68c33a7",
   "metadata": {},
   "outputs": [
    {
     "name": "stdout",
     "output_type": "stream",
     "text": [
      "Enter list:COunt the number\n"
     ]
    }
   ],
   "source": [
    "lst = input(\"Enter list:\")"
   ]
  },
  {
   "cell_type": "code",
   "execution_count": 50,
   "id": "73d8fa06",
   "metadata": {},
   "outputs": [
    {
     "name": "stdout",
     "output_type": "stream",
     "text": [
      "COunt the number\n"
     ]
    }
   ],
   "source": [
    "print(lst)"
   ]
  },
  {
   "cell_type": "code",
   "execution_count": 51,
   "id": "f6189f7c",
   "metadata": {},
   "outputs": [
    {
     "data": {
      "text/plain": [
       "5"
      ]
     },
     "execution_count": 51,
     "metadata": {},
     "output_type": "execute_result"
    }
   ],
   "source": [
    "count(lst)"
   ]
  },
  {
   "cell_type": "code",
   "execution_count": null,
   "id": "d1a6b31a",
   "metadata": {},
   "outputs": [],
   "source": []
  }
 ],
 "metadata": {
  "kernelspec": {
   "display_name": "Python 3 (ipykernel)",
   "language": "python",
   "name": "python3"
  },
  "language_info": {
   "codemirror_mode": {
    "name": "ipython",
    "version": 3
   },
   "file_extension": ".py",
   "mimetype": "text/x-python",
   "name": "python",
   "nbconvert_exporter": "python",
   "pygments_lexer": "ipython3",
   "version": "3.9.13"
  }
 },
 "nbformat": 4,
 "nbformat_minor": 5
}
