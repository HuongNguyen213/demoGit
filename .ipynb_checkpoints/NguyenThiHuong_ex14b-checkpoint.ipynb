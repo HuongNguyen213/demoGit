{
 "cells": [
  {
   "cell_type": "markdown",
   "id": "268d0923",
   "metadata": {},
   "source": [
    "### Write a lambda function that takes a list of strings as input and returns a new list with all the strings capitalized.\n",
    "Example\n",
    "Input: [\"apple\", \"banana\", \"cherry\", \"hello WORLD!\"]\n",
    "Output: [\"Apple\", \"Banana\", \"Cherry\", \"Hello world!\"]"
   ]
  },
  {
   "cell_type": "code",
   "execution_count": 1,
   "id": "d8c592de",
   "metadata": {},
   "outputs": [
    {
     "name": "stdout",
     "output_type": "stream",
     "text": [
      "Enter number of elements in list: 3\n",
      "Enter elements: apple\n",
      "Enter elements: banana\n",
      "Enter elements: hello WORLD\n",
      "['Apple', 'Banana', 'Hello world']\n"
     ]
    }
   ],
   "source": [
    "lst = []\n",
    "num = int(input(\"Enter number of elements in list: \"))\n",
    "for i in range(1, num + 1):\n",
    "    ele = input(\"Enter elements: \")\n",
    "    lst.append(ele)\n",
    "\n",
    "\n",
    "    \n",
    "def ex14b(l):\n",
    "    Lst = []\n",
    "    for i in l:\n",
    "        Lst.append(i.lower().capitalize())\n",
    "    \n",
    "    return Lst\n",
    "\n",
    "print(ex14b(lst))"
   ]
  },
  {
   "cell_type": "code",
   "execution_count": 3,
   "id": "f9753246",
   "metadata": {},
   "outputs": [
    {
     "name": "stdout",
     "output_type": "stream",
     "text": [
      "Enter number of elements in list: 2\n",
      "Enter elements: apple\n",
      "Enter elements: hello WORLD\n",
      "['apple', 'hello WORLD']\n"
     ]
    },
    {
     "data": {
      "text/plain": [
       "['Apple', 'Hello world']"
      ]
     },
     "execution_count": 3,
     "metadata": {},
     "output_type": "execute_result"
    }
   ],
   "source": [
    "lst = []\n",
    "num = int(input(\"Enter number of elements in list: \"))\n",
    "for i in range(1, num + 1):\n",
    "    ele = input(\"Enter elements: \")\n",
    "    lst.append(ele)\n",
    "\n",
    "print(lst)\n",
    "\n",
    "def ex14b(l):\n",
    "    return list(map(lambda a: (a.lower().capitalize()) , l))\n",
    "\n",
    "ex14b(lst)"
   ]
  },
  {
   "cell_type": "code",
   "execution_count": null,
   "id": "92ebc6b3",
   "metadata": {},
   "outputs": [],
   "source": []
  }
 ],
 "metadata": {
  "kernelspec": {
   "display_name": "Python 3 (ipykernel)",
   "language": "python",
   "name": "python3"
  },
  "language_info": {
   "codemirror_mode": {
    "name": "ipython",
    "version": 3
   },
   "file_extension": ".py",
   "mimetype": "text/x-python",
   "name": "python",
   "nbconvert_exporter": "python",
   "pygments_lexer": "ipython3",
   "version": "3.9.13"
  }
 },
 "nbformat": 4,
 "nbformat_minor": 5
}
