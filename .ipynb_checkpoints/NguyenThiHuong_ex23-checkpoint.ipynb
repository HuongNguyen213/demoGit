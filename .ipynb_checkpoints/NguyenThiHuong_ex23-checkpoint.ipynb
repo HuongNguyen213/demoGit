{
 "cells": [
  {
   "cell_type": "markdown",
   "id": "353e3abc",
   "metadata": {},
   "source": [
    "#### A list could represent a polynomial.\n",
    "For example: the list A = [4, 0, 10, 5] \n",
    "presents for a polynomial: \"4 + 0x^1 + 10x^2 + 5x^3\"\n",
    "Write in Python:\n",
    "a. A function to read a polynomial from keyboard\n",
    "b. A function to print a polynomial  \n",
    "c. A function to calculate the value of a polynomial with a value of variable x (as a parameter of the function)\n",
    "d. A function to calculate the sum of two polynomials\n",
    "e. A function to calculate the subtraction of two polynomials\n",
    "f. A function to calculate the multiplication of two polynomials"
   ]
  },
  {
   "cell_type": "code",
   "execution_count": 1,
   "id": "b93ed042",
   "metadata": {
    "pycharm": {
     "is_executing": true
    }
   },
   "outputs": [],
   "source": [
    "def n1():\n",
    "    lst1 = []\n",
    "    lst = input(\"Enter a list of number: \")\n",
    "    for i in lst.split():\n",
    "        lst1.append(int(i))\n",
    "    return lst1"
   ]
  },
  {
   "cell_type": "code",
   "execution_count": 2,
   "id": "e7e541a2",
   "metadata": {},
   "outputs": [],
   "source": [
    "def N1():\n",
    "    lst1 = []\n",
    "    lst = input(\"Enter another list of number: \")\n",
    "    for i in lst.split():\n",
    "        lst1.append(int(i))\n",
    "    return lst1"
   ]
  },
  {
   "cell_type": "code",
   "execution_count": 3,
   "id": "7428d980",
   "metadata": {},
   "outputs": [],
   "source": [
    "def n2(lst):\n",
    "    n = len(lst)\n",
    "    i = 0\n",
    "    while i < n:\n",
    "        print(f\"{lst[i]}X^{i}\")\n",
    "        i += 1"
   ]
  },
  {
   "cell_type": "code",
   "execution_count": 4,
   "id": "224882cb",
   "metadata": {},
   "outputs": [],
   "source": [
    "def N2(lst):\n",
    "    n = len(lst)\n",
    "    for i in range(n):\n",
    "        print(lst[i], end = \"\")\n",
    "        if (i != 0):\n",
    "            print(\"x^\", i, end = \"\")\n",
    "        if (i != n - 1):\n",
    "            print(\" + \", end = \"\")"
   ]
  },
  {
   "cell_type": "code",
   "execution_count": 5,
   "id": "6106f2e8",
   "metadata": {},
   "outputs": [],
   "source": [
    "def n3(lst, x):\n",
    "    n = len(lst)\n",
    "    i = 0\n",
    "    value = 0\n",
    "    while i < n:\n",
    "        value += lst[i]*(x**(i))\n",
    "        i += 1\n",
    "    return value"
   ]
  },
  {
   "cell_type": "code",
   "execution_count": 6,
   "id": "84ee9d1b",
   "metadata": {},
   "outputs": [],
   "source": [
    "def add(lst1, lst2):\n",
    "    m = len(lst1)\n",
    "    n = len(lst2)\n",
    "    size = max(m, n);\n",
    "    sum = [0 for i in range(size)]\n",
    " \n",
    "    # Initialize the product polynomial\n",
    "     \n",
    "    for i in range(0, m, 1):\n",
    "        sum[i] = lst1[i]\n",
    " \n",
    "    # Take ever term of first polynomial\n",
    "    for i in range(n):\n",
    "        sum[i] += lst2[i]\n",
    " \n",
    "    return sum\n"
   ]
  },
  {
   "cell_type": "code",
   "execution_count": 7,
   "id": "e0fa6ba3",
   "metadata": {},
   "outputs": [],
   "source": [
    "def substraction (lst1, lst2):\n",
    "    m = len(lst1)\n",
    "    n = len(lst2)\n",
    "    size = max(m, n);\n",
    "    sub = [0 for i in range(size)]\n",
    " \n",
    "    # Initialize the product polynomial\n",
    "     \n",
    "    for i in range(0, m, 1):\n",
    "        sub[i] = lst1[i]\n",
    " \n",
    "    # Take ever term of first polynomial\n",
    "    for i in range(n):\n",
    "        sub[i] *= lst2[i]\n",
    " \n",
    "    return sub"
   ]
  },
  {
   "cell_type": "code",
   "execution_count": 8,
   "id": "e2aad008",
   "metadata": {},
   "outputs": [],
   "source": [
    "def multiplication(lst1, lst2):\n",
    "    m = len(lst1)\n",
    "    n = len(lst2)\n",
    "    size = max(m, n);\n",
    "    mul = [0 for i in range(size)]\n",
    " \n",
    "    # Initialize the product polynomial\n",
    "     \n",
    "    for i in range(0, m, 1):\n",
    "        mul[i] = lst1[i]\n",
    " \n",
    "    # Take ever term of first polynomial\n",
    "    for i in range(n):\n",
    "        mul[i] *= lst2[i]\n",
    " \n",
    "    return mul"
   ]
  },
  {
   "cell_type": "code",
   "execution_count": 9,
   "id": "034d1b5c",
   "metadata": {},
   "outputs": [],
   "source": [
    "def menuA(n, array):\n",
    "\n",
    "    if n==1:\n",
    "        print(\"1. Read a polynomial from keyboard\")\n",
    "        print(\"2. Print a polynomial\")\n",
    "        print(\"3. Calculate the value of a polynomial with a value of variable x (as a parameter of the function)\")\n",
    "        print(\"4. Calculate the sum of two polynomials\")\n",
    "        print(\"5. Calculate the substraction of two polynomials\")\n",
    "        print(\"6. Calculate the multiplication of two polynomials\")\n",
    "        print(\"7. Exit!\")\n",
    "        lst = n1()\n",
    "        print(\"________________________________________________________\\n\")\n",
    "        print(\"Are you want to continue choose another option ?\")\n",
    "        answer = input(\"Enter your choice: \\n yes or no \\n\")\n",
    "        if answer == \"yes\":\n",
    "            op = int(input(\"Enter your option:\"))\n",
    "            menuA(op, lst)\n",
    "        else:\n",
    "            exit()\n",
    "    elif n==2:\n",
    "        N2(array)\n",
    "        print(\"\\n________________________________________________________\\n\")\n",
    "        print(\"Are you want to continue choose another option ?\")\n",
    "        answer = input(\"Enter your choice: \\n yes or no \\n\")\n",
    "        if answer == \"yes\":\n",
    "            op = int(input(\"Enter your option:\"))\n",
    "            return menuA(op, array)\n",
    "        else:\n",
    "            exit()\n",
    "    elif n==3:\n",
    "        print(\"Polymial:\")\n",
    "        N2(array)\n",
    "        valuex = float(input(\"enter value x:\"))\n",
    "        print(f\"value of polymial when x = {valuex} is {n3(array, valuex)}\")\n",
    "        print(\"\\n________________________________________________________\\n\")\n",
    "        print(\"Are you want to continue choose another option ?\")\n",
    "        answer = input(\"Enter your choice: \\n yes or no \\n\")\n",
    "        if answer == \"yes\":\n",
    "            op = int(input(\"Enter your option:\"))\n",
    "            return menuA(op, array)\n",
    "        else:\n",
    "            exit()\n",
    "    elif n==4:\n",
    "        l2 = N1()\n",
    "        sumP = add(array, l2)\n",
    "        print(\"Sum of two polymial is:\")\n",
    "        N2(sumP)\n",
    "        print(\"\\n________________________________________________________\\n\")\n",
    "        print(\"Are you want to continue choose another option ?\\n\")\n",
    "        answer = input(\"Enter your choice: \\n yes or no \\n\")\n",
    "        if answer == \"yes\":\n",
    "            op = int(input(\"Enter your option:\"))\n",
    "            return menuA(op, array)\n",
    "        else:\n",
    "            exit()\n",
    "    elif n==5:\n",
    "        l2 = N1()\n",
    "        sub = substraction(array, l2)\n",
    "        print(\"Substraction of two polymial is:\")\n",
    "        N2(sub)\n",
    "        print(\"\\n________________________________________________________\\n\")\n",
    "        print(\"Are you want to continue choose another option ?\")\n",
    "        answer = input(\"Enter your choice: \\n yes or no \\n\")\n",
    "        if answer == \"yes\":\n",
    "            op = int(input(\"Enter your option:\"))\n",
    "            return menuA(op, array)\n",
    "        else:\n",
    "            exit()\n",
    "    elif n==6:\n",
    "        l2 = N1()\n",
    "        mul = multiplication(array, l2)\n",
    "        print(\"Multiplication of two polymial is:\")\n",
    "        N2(mul)\n",
    "        print(\"\\n________________________________________________________\\n\")\n",
    "        print(\"Are you want to continue choose another option ?\")\n",
    "        answer = input(\"Enter your choice: \\n yes or no \\n\")\n",
    "        if answer == \"yes\":\n",
    "            op = int(input(\"Enter your option:\"))\n",
    "            return menuA(op, array)\n",
    "        else:\n",
    "            exit()\n",
    "    elif n==7:\n",
    "        exit()\n",
    "    else:\n",
    "        print(\"Your option is not in our menu! Please choose another option\")\n",
    "        menuA(1, 0)"
   ]
  },
  {
   "cell_type": "code",
   "execution_count": null,
   "id": "660ea238",
   "metadata": {},
   "outputs": [],
   "source": [
    "if __name__ == \"__main__\":\n",
    "    menuA(1, 0)"
   ]
  }
 ],
 "metadata": {
  "kernelspec": {
   "display_name": "Python 3 (ipykernel)",
   "language": "python",
   "name": "python3"
  },
  "language_info": {
   "codemirror_mode": {
    "name": "ipython",
    "version": 3
   },
   "file_extension": ".py",
   "mimetype": "text/x-python",
   "name": "python",
   "nbconvert_exporter": "python",
   "pygments_lexer": "ipython3",
   "version": "3.9.13"
  }
 },
 "nbformat": 4,
 "nbformat_minor": 5
}
