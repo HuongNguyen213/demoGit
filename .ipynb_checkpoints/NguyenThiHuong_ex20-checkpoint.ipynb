{
 "cells": [
  {
   "cell_type": "markdown",
   "id": "c701d70d",
   "metadata": {},
   "source": [
    "#### Write a Python program that reads a text file \"input.txt\", Extract all dates in the format \"dd/mm/yyyy\", and writes the result to a new file called \"output.txt\".\n"
   ]
  },
  {
   "cell_type": "code",
   "execution_count": 40,
   "id": "2cd9ad3b",
   "metadata": {},
   "outputs": [],
   "source": [
    "import os\n",
    "import re\n",
    "\n",
    "\n",
    "f1 = open(\"output.txt\", \"w+\", encoding=\"utf8\")\n",
    "if os.path.exists(\"data/input.txt\"):\n",
    "    f = open(\"data/input.txt\", \"r\", encoding=\"utf8\")\n",
    "    data = f.read()\n",
    "    d = re.findall(r'/d/d\\/d/d\\/d/d/d/d', data)\n",
    "    for i in d:\n",
    "        f1.write(i)\n",
    "\n",
    "    f.close()\n",
    "else:\n",
    "    raise FileExistsError(\"The file does not exists!\")\n",
    "    \n"
   ]
  }
 ],
 "metadata": {
  "kernelspec": {
   "display_name": "Python 3 (ipykernel)",
   "language": "python",
   "name": "python3"
  },
  "language_info": {
   "codemirror_mode": {
    "name": "ipython",
    "version": 3
   },
   "file_extension": ".py",
   "mimetype": "text/x-python",
   "name": "python",
   "nbconvert_exporter": "python",
   "pygments_lexer": "ipython3",
   "version": "3.9.13"
  }
 },
 "nbformat": 4,
 "nbformat_minor": 5
}
