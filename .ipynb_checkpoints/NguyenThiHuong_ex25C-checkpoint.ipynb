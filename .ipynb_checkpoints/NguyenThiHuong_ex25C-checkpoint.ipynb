{
 "cells": [
  {
   "cell_type": "markdown",
   "id": "9b864af1",
   "metadata": {},
   "source": [
    "### Continue your exercise 25B:\n",
    "\n",
    "- Display on the screen the list of all examinees who have the scores of mathematics (toan) or literature (ngu_van) higher than 9 in Ho Chi Minh city.\n",
    "- Print to the screen the names of the 3 provinces with the most students scoring 10 in math. \n",
    "- Print to the screen names of 5 provinces with the highest average foreign language scores and the names of the 5 provinces with the lowest average foreign language scores.\n",
    "- Print out the list of provinces/cities in descending order of average math scores."
   ]
  },
  {
   "cell_type": "code",
   "execution_count": 1,
   "id": "45c70182",
   "metadata": {},
   "outputs": [],
   "source": [
    "import pandas as pd \n",
    "\n",
    "\n",
    "url = \"https://raw.githubusercontent.com/anhdung98/diem_thi_2022/main/diem_thi_thpt_2022.csv\"\n",
    "df = pd.read_csv(url) # Lấy dữ liệu từ file work_data.csv đê phân tích và đặt tên dữ liệu đó là dataset\n",
    "# df\n"
   ]
  },
  {
   "cell_type": "code",
   "execution_count": 2,
   "id": "f3989414",
   "metadata": {},
   "outputs": [],
   "source": [
    "df_HCM = df[df['sbd'].astype(str).str.startswith('2')]\n",
    "# print(df_HCM)"
   ]
  },
  {
   "cell_type": "markdown",
   "id": "5a654257",
   "metadata": {},
   "source": [
    "### Display on the screen the list of all examinees who have the scores of mathematics (toan) or literature (ngu_van) higher than 9 in Ho Chi Minh city."
   ]
  },
  {
   "cell_type": "code",
   "execution_count": 60,
   "id": "82b10c69",
   "metadata": {},
   "outputs": [
    {
     "data": {
      "text/html": [
       "<div>\n",
       "<style scoped>\n",
       "    .dataframe tbody tr th:only-of-type {\n",
       "        vertical-align: middle;\n",
       "    }\n",
       "\n",
       "    .dataframe tbody tr th {\n",
       "        vertical-align: top;\n",
       "    }\n",
       "\n",
       "    .dataframe thead th {\n",
       "        text-align: right;\n",
       "    }\n",
       "</style>\n",
       "<table border=\"1\" class=\"dataframe\">\n",
       "  <thead>\n",
       "    <tr style=\"text-align: right;\">\n",
       "      <th></th>\n",
       "      <th>toan</th>\n",
       "      <th>ngu_van</th>\n",
       "    </tr>\n",
       "  </thead>\n",
       "  <tbody>\n",
       "    <tr>\n",
       "      <th>96952</th>\n",
       "      <td>9.2</td>\n",
       "      <td>6.50</td>\n",
       "    </tr>\n",
       "    <tr>\n",
       "      <th>97043</th>\n",
       "      <td>9.2</td>\n",
       "      <td>7.25</td>\n",
       "    </tr>\n",
       "    <tr>\n",
       "      <th>97058</th>\n",
       "      <td>9.4</td>\n",
       "      <td>6.75</td>\n",
       "    </tr>\n",
       "    <tr>\n",
       "      <th>97061</th>\n",
       "      <td>9.2</td>\n",
       "      <td>8.00</td>\n",
       "    </tr>\n",
       "    <tr>\n",
       "      <th>97219</th>\n",
       "      <td>9.4</td>\n",
       "      <td>5.75</td>\n",
       "    </tr>\n",
       "    <tr>\n",
       "      <th>...</th>\n",
       "      <td>...</td>\n",
       "      <td>...</td>\n",
       "    </tr>\n",
       "    <tr>\n",
       "      <th>552972</th>\n",
       "      <td>6.6</td>\n",
       "      <td>9.25</td>\n",
       "    </tr>\n",
       "    <tr>\n",
       "      <th>552998</th>\n",
       "      <td>4.8</td>\n",
       "      <td>9.25</td>\n",
       "    </tr>\n",
       "    <tr>\n",
       "      <th>552999</th>\n",
       "      <td>6.6</td>\n",
       "      <td>9.50</td>\n",
       "    </tr>\n",
       "    <tr>\n",
       "      <th>553003</th>\n",
       "      <td>7.8</td>\n",
       "      <td>9.50</td>\n",
       "    </tr>\n",
       "    <tr>\n",
       "      <th>553041</th>\n",
       "      <td>7.8</td>\n",
       "      <td>9.25</td>\n",
       "    </tr>\n",
       "  </tbody>\n",
       "</table>\n",
       "<p>6291 rows × 2 columns</p>\n",
       "</div>"
      ],
      "text/plain": [
       "        toan  ngu_van\n",
       "96952    9.2     6.50\n",
       "97043    9.2     7.25\n",
       "97058    9.4     6.75\n",
       "97061    9.2     8.00\n",
       "97219    9.4     5.75\n",
       "...      ...      ...\n",
       "552972   6.6     9.25\n",
       "552998   4.8     9.25\n",
       "552999   6.6     9.50\n",
       "553003   7.8     9.50\n",
       "553041   7.8     9.25\n",
       "\n",
       "[6291 rows x 2 columns]"
      ]
     },
     "execution_count": 60,
     "metadata": {},
     "output_type": "execute_result"
    }
   ],
   "source": [
    "df_hcmMark = df_HCM[(df_HCM['toan'] > 9) | (df_HCM['ngu_van'] > 9)]\n",
    "df_hcmMark[['toan', 'ngu_van']]"
   ]
  },
  {
   "cell_type": "markdown",
   "id": "a5237223",
   "metadata": {},
   "source": [
    "### Print to the screen the names of the 3 provinces with the most students scoring 10 in math. "
   ]
  },
  {
   "cell_type": "code",
   "execution_count": 5,
   "id": "4781dd38",
   "metadata": {},
   "outputs": [],
   "source": [
    "df_toan = df[(df['toan'] == 10)]"
   ]
  },
  {
   "cell_type": "code",
   "execution_count": 6,
   "id": "ef7695d8",
   "metadata": {},
   "outputs": [],
   "source": [
    "# lấy mã và tên thành phố - cách 1\n",
    "matinh=[(1, \"THÀNH PHỐ HÀ NỘI\"),(7,'TỈNH LAI CHÂU'),(12,'TỈNH THÁI NGUYÊN'),(13,'TỈNH YÊN BÁI'),(15,'TỈNH PHÚ THỌ'),(16,'TỈNH VĨNH PHÚC'),(17,'TỈNH QUẢNG NINH'),\n",
    "     (18,'TỈNH BẮC GIANG'),(19,'TỈNH BẮC NINH'),(8,'TỈNH LÀO CAI'),(9,'TỈNH TUYÊN QUANG'),(10,' TỈNH LẠNG SƠN'),(2,\"THÀNH PHỐ HỒ CHÍ MINH\"),(14,'TỈNH SƠN LA'),\n",
    "     (21,'TỈNH HẢI DƯƠNG'),(22,'TỈNH HƯNG YÊN'),(24,'TỈNH HÀ NAM'),(25,'TỈNH NAM ĐỊNH'),(26,'TỈNH THÁI BÌNH'),(28,'TỈNH THANH HÓA'),(29,'TỈNH NGHỆ AN'),(30,'TỈNH HÀ TĨNH'),\n",
    "     (31,'TỈNH QUẢNG BÌNH'),(32,'TỈNH QUẢNG TRỊ'),(33,'TỈNH THỪA THIÊN - HUẾ'),(34,' TỈNH QUẢNG NAM'),(35,'TỈNH QUẢNG NGÃI'),(36,'TỈNH KON TUM'),(38,'TỈNH GIA LAI'),(39,'TỈNH PHÚ YÊN'),(40,'TỈNH ĐẮK LẮK')\n",
    "     ,(41,'TỈNH KHÁNH HÒA'),(43,'TỈNH BÌNH PHƯỚC'),(45,'TỈNH NINH THUẬN'),(46,'TỈNH TÂY NINH'),(47,' TỈNH BÌNH THUẬN'),(49,'TỈNH LONG AN'),(50,'TỈNH ĐỒNG THÁP')\n",
    "     ,(51,'TỈNH AN GIANG'),(53,'TỈNH TIỀN GIANG'),(54,'TỈNH KIÊN GIANG'),(55,'THÀNH PHỐ CẦN THƠ'),(56,'TỈNH BẾN TRE'),(57,'TỈNH VĨNH LONG'),(58,'TỈNH TRÀ VINH'),(59,'TỈNH SÓC TRĂNG'),(60,'TỈNH BẠC LIÊU')\n",
    "     ,(61,' TỈNH CÀ MAU'),(62,'TỈNH ĐIỆN BIÊN'),(63,'TỈNH ĐĂK NÔNG'),(64,'TỈNH HẬU GIANG'),\n",
    "     (11,'TỈNH BẮC KẠN'),(42,'TỈNH LÂM ĐỒNG'),(37,'TỈNH BÌNH ĐỊNH'),(23,'TỈNH HÒA BÌNH'),(48,'TỈNH ĐỒNG NAI'),(52,'TỈNH BÀ RỊA – VŨNG TÀU'),(44,'TỈNH BÌNH DƯƠNG'),\n",
    "     (3,'THÀNH PHỐ HẢI PHÒNG'),(4,'THÀNH PHỐ ĐÀ NẴNG'),(5,'TỈNH HÀ GIANG'),(6,'TỈNH CAO BẰNG'),(27,'TỈNH NINH BÌNH')]"
   ]
  },
  {
   "cell_type": "code",
   "execution_count": 7,
   "id": "2f9dab31",
   "metadata": {},
   "outputs": [
    {
     "data": {
      "text/html": [
       "<div>\n",
       "<style scoped>\n",
       "    .dataframe tbody tr th:only-of-type {\n",
       "        vertical-align: middle;\n",
       "    }\n",
       "\n",
       "    .dataframe tbody tr th {\n",
       "        vertical-align: top;\n",
       "    }\n",
       "\n",
       "    .dataframe thead th {\n",
       "        text-align: right;\n",
       "    }\n",
       "</style>\n",
       "<table border=\"1\" class=\"dataframe\">\n",
       "  <thead>\n",
       "    <tr style=\"text-align: right;\">\n",
       "      <th></th>\n",
       "      <th>code</th>\n",
       "      <th>city</th>\n",
       "    </tr>\n",
       "  </thead>\n",
       "  <tbody>\n",
       "    <tr>\n",
       "      <th>0</th>\n",
       "      <td>1</td>\n",
       "      <td>THÀNH PHỐ HÀ NỘI</td>\n",
       "    </tr>\n",
       "    <tr>\n",
       "      <th>1</th>\n",
       "      <td>2</td>\n",
       "      <td>THÀNH PHỐ HỒ CHÍ MINH</td>\n",
       "    </tr>\n",
       "    <tr>\n",
       "      <th>2</th>\n",
       "      <td>3</td>\n",
       "      <td>THÀNH PHỐ HẢI PHÒNG</td>\n",
       "    </tr>\n",
       "    <tr>\n",
       "      <th>3</th>\n",
       "      <td>4</td>\n",
       "      <td>THÀNH PHỐ ĐÀ NẴNG</td>\n",
       "    </tr>\n",
       "    <tr>\n",
       "      <th>4</th>\n",
       "      <td>5</td>\n",
       "      <td>TỈNH HÀ GIANG</td>\n",
       "    </tr>\n",
       "    <tr>\n",
       "      <th>...</th>\n",
       "      <td>...</td>\n",
       "      <td>...</td>\n",
       "    </tr>\n",
       "    <tr>\n",
       "      <th>58</th>\n",
       "      <td>60</td>\n",
       "      <td>TỈNH BẠC LIÊU</td>\n",
       "    </tr>\n",
       "    <tr>\n",
       "      <th>59</th>\n",
       "      <td>61</td>\n",
       "      <td>TỈNH CÀ MAU</td>\n",
       "    </tr>\n",
       "    <tr>\n",
       "      <th>60</th>\n",
       "      <td>62</td>\n",
       "      <td>TỈNH ĐIỆN BIÊN</td>\n",
       "    </tr>\n",
       "    <tr>\n",
       "      <th>61</th>\n",
       "      <td>63</td>\n",
       "      <td>TỈNH ĐĂK NÔNG</td>\n",
       "    </tr>\n",
       "    <tr>\n",
       "      <th>62</th>\n",
       "      <td>64</td>\n",
       "      <td>TỈNH HẬU GIANG</td>\n",
       "    </tr>\n",
       "  </tbody>\n",
       "</table>\n",
       "<p>63 rows × 2 columns</p>\n",
       "</div>"
      ],
      "text/plain": [
       "   code                   city\n",
       "0     1       THÀNH PHỐ HÀ NỘI\n",
       "1     2  THÀNH PHỐ HỒ CHÍ MINH\n",
       "2     3    THÀNH PHỐ HẢI PHÒNG\n",
       "3     4      THÀNH PHỐ ĐÀ NẴNG\n",
       "4     5          TỈNH HÀ GIANG\n",
       "..  ...                    ...\n",
       "58   60          TỈNH BẠC LIÊU\n",
       "59   61            TỈNH CÀ MAU\n",
       "60   62         TỈNH ĐIỆN BIÊN\n",
       "61   63          TỈNH ĐĂK NÔNG\n",
       "62   64         TỈNH HẬU GIANG\n",
       "\n",
       "[63 rows x 2 columns]"
      ]
     },
     "execution_count": 7,
     "metadata": {},
     "output_type": "execute_result"
    }
   ],
   "source": [
    "# lấy mã và tên thành phố - cách 2 - dataframe\n",
    "c = []\n",
    "\n",
    "with open('city.csv', 'r',  encoding=\"utf8\") as reading:\n",
    "    file_input = reading.read().split('\\n')\n",
    "\n",
    "for row in file_input:\n",
    "    c.append(row.split(' - '))\n",
    "\n",
    "df_city = pd.DataFrame(c, columns=['code', 'city'])\n",
    "df_city"
   ]
  },
  {
   "cell_type": "code",
   "execution_count": 18,
   "id": "ef238437",
   "metadata": {},
   "outputs": [],
   "source": [
    "# cách 1: dùng dataframe\n",
    "def take_name1(so):\n",
    "    for i in df_city.code:\n",
    "        if int(i) == so:\n",
    "            return df_city.city.iloc[int(i)-1]\n",
    "# i - 1 do iloc tình từ vị trí 0"
   ]
  },
  {
   "cell_type": "code",
   "execution_count": 8,
   "id": "bfd138d7",
   "metadata": {},
   "outputs": [],
   "source": [
    "# cách 2: dùng array\n",
    "def take_name(so):\n",
    "    for (i,name) in matinh:\n",
    "        if i == so:\n",
    "            return name"
   ]
  },
  {
   "cell_type": "code",
   "execution_count": 20,
   "id": "c8567052",
   "metadata": {},
   "outputs": [
    {
     "name": "stdout",
     "output_type": "stream",
     "text": [
      "THÀNH PHỐ HỒ CHÍ MINH:6\n",
      "THÀNH PHỐ HÀ NỘI:6\n",
      "TỈNH NGHỆ AN:3\n"
     ]
    }
   ],
   "source": [
    "math10 = []\n",
    "for i in range(1,65):\n",
    "#     Create a data frame df_HCM containing the list of\n",
    "#     examinees at Ho Chi Minh City Examination Council, whose first 2 digits of the\n",
    "#     registration number (sbd) are i\n",
    "  local_DF= df[df.sbd // 1000000==i]\n",
    "  sl = len(local_DF[local_DF.toan ==10])\n",
    "  math10.append((i,sl))\n",
    "\n",
    "top3=sorted(math10, key=lambda el: el[1])[-3:]\n",
    "for (i,sl) in reversed(top3):\n",
    "  ten_tinh= take_name1(i)\n",
    "  print(f'{ten_tinh}:{sl}')"
   ]
  },
  {
   "cell_type": "markdown",
   "id": "e1f845d9",
   "metadata": {},
   "source": [
    "### Print to the screen names of 5 provinces with the highest average foreign language scores and the names of the 5 provinces with the lowest average foreign language scores."
   ]
  },
  {
   "cell_type": "code",
   "execution_count": 10,
   "id": "df1a986f",
   "metadata": {},
   "outputs": [],
   "source": [
    "def average_ngoaingu():\n",
    "  result = []\n",
    "  for i in range(1,65):\n",
    "    local_DF = df[df.sbd //1000000==i]\n",
    "    average_grade=local_DF['ngoai_ngu'].mean()\n",
    "    result.append((i,average_grade))\n",
    "  return sorted(result,key = lambda el: el[1])"
   ]
  },
  {
   "cell_type": "code",
   "execution_count": 11,
   "id": "2e17472a",
   "metadata": {},
   "outputs": [],
   "source": [
    "def top5_lowest_greatest_ngoaingu():\n",
    "    sort_ngoaingu=average_ngoaingu()\n",
    "    top5_lowest_greatestt=sort_ngoaingu[:5]+sort_ngoaingu[-5:]\n",
    "\n",
    "    for (index,(i,sl)) in enumerate(top5_lowest_greatestt):\n",
    "      if index ==0:\n",
    "        print(\"top lowest:\")\n",
    "      if index ==5:\n",
    "        print(\"top greatest:\")\n",
    "      ten_tinh = take_name(i)\n",
    "      print(f'{ten_tinh}:{round(sl,3)}')"
   ]
  },
  {
   "cell_type": "code",
   "execution_count": 12,
   "id": "599bf2ac",
   "metadata": {},
   "outputs": [
    {
     "name": "stdout",
     "output_type": "stream",
     "text": [
      "top lowest:\n",
      "TỈNH HÀ GIANG:3.79\n",
      "TỈNH SƠN LA:4.03\n",
      "TỈNH CAO BẰNG:4.202\n",
      "TỈNH BẮC KẠN:4.205\n",
      "TỈNH HÒA BÌNH:4.247\n",
      "top greatest:\n",
      "TỈNH LÂM ĐỒNG:5.302\n",
      "TỈNH BÌNH ĐỊNH:5.31\n",
      "TỈNH ĐỒNG NAI:5.344\n",
      "TỈNH BÀ RỊA – VŨNG TÀU:5.838\n",
      "TỈNH BÌNH DƯƠNG:6.254\n"
     ]
    }
   ],
   "source": [
    "top5_lowest_greatest_ngoaingu()"
   ]
  },
  {
   "cell_type": "markdown",
   "id": "47c8e2d9",
   "metadata": {},
   "source": [
    "### Print out the list of provinces/cities in descending order of average math scores."
   ]
  },
  {
   "cell_type": "code",
   "execution_count": 57,
   "id": "8047a8ae",
   "metadata": {},
   "outputs": [],
   "source": [
    "def average_toan():\n",
    "  result = []\n",
    "  for i in range(1,65):\n",
    "    local_DF = df[df.sbd //1000000==i]\n",
    "    average_grade=local_DF['toan'].mean()\n",
    "    result.append((i,average_grade))\n",
    "  return sorted(result,key = lambda el: el[1], reverse=True)"
   ]
  },
  {
   "cell_type": "code",
   "execution_count": 58,
   "id": "7259721b",
   "metadata": {},
   "outputs": [],
   "source": [
    "def all_average_math():\n",
    "    sort_toan=average_toan()\n",
    "    for (index,(i,sl)) in enumerate(sort_toan):\n",
    "        ten_tinh = take_name(i)\n",
    "        print(f'{ten_tinh}:{round(sl,3)}')"
   ]
  },
  {
   "cell_type": "code",
   "execution_count": 59,
   "id": "deb6e804",
   "metadata": {},
   "outputs": [
    {
     "name": "stdout",
     "output_type": "stream",
     "text": [
      "TỈNH BÌNH DƯƠNG:7.145\n",
      "THÀNH PHỐ HỒ CHÍ MINH:7.057\n",
      "None:nan\n",
      "TỈNH NAM ĐỊNH:7.402\n",
      "TỈNH NINH BÌNH:6.999\n",
      "TỈNH THÁI BÌNH:6.997\n",
      "TỈNH HÀ NAM:6.981\n",
      "TỈNH VĨNH PHÚC:6.92\n",
      "THÀNH PHỐ HẢI PHÒNG:6.916\n",
      "TỈNH BẮC NINH:6.875\n",
      "TỈNH TIỀN GIANG:6.821\n",
      "THÀNH PHỐ HÀ NỘI:6.766\n",
      "THÀNH PHỐ ĐÀ NẴNG:6.75\n",
      "TỈNH BÀ RỊA – VŨNG TÀU:6.729\n",
      "TỈNH HẢI DƯƠNG:6.705\n",
      "TỈNH BẠC LIÊU:6.678\n",
      "TỈNH LONG AN:6.677\n",
      "TỈNH BÌNH ĐỊNH:6.629\n",
      "TỈNH HƯNG YÊN:6.627\n",
      "TỈNH LÂM ĐỒNG:6.617\n",
      "TỈNH HÀ TĨNH:6.548\n",
      "TỈNH VĨNH LONG:6.539\n",
      "TỈNH AN GIANG:6.533\n",
      "TỈNH BẾN TRE:6.506\n",
      "TỈNH THỪA THIÊN - HUẾ:6.491\n",
      "THÀNH PHỐ CẦN THƠ:6.487\n",
      "TỈNH ĐỒNG THÁP:6.485\n",
      "TỈNH BẮC GIANG:6.469\n",
      "TỈNH PHÚ THỌ:6.446\n",
      "TỈNH TÂY NINH:6.426\n",
      "TỈNH KHÁNH HÒA:6.423\n",
      " TỈNH BÌNH THUẬN:6.393\n",
      "TỈNH QUẢNG NGÃI:6.382\n",
      " TỈNH QUẢNG NAM:6.355\n",
      "TỈNH NGHỆ AN:6.319\n",
      "TỈNH KON TUM:6.296\n",
      "TỈNH ĐỒNG NAI:6.293\n",
      "TỈNH BÌNH PHƯỚC:6.232\n",
      "TỈNH LÀO CAI:6.228\n",
      "TỈNH PHÚ YÊN:6.224\n",
      "TỈNH QUẢNG TRỊ:6.2\n",
      " TỈNH CÀ MAU:6.176\n",
      "TỈNH THANH HÓA:6.08\n",
      "TỈNH GIA LAI:6.045\n",
      "TỈNH NINH THUẬN:6.038\n",
      "TỈNH ĐĂK NÔNG:6.017\n",
      "TỈNH KIÊN GIANG:6.002\n",
      "TỈNH QUẢNG NINH:5.934\n",
      "TỈNH QUẢNG BÌNH:5.931\n",
      "TỈNH SÓC TRĂNG:5.922\n",
      "TỈNH THÁI NGUYÊN:5.922\n",
      "TỈNH HẬU GIANG:5.868\n",
      "TỈNH ĐẮK LẮK:5.863\n",
      "TỈNH LAI CHÂU:5.816\n",
      "TỈNH TUYÊN QUANG:5.79\n",
      "TỈNH TRÀ VINH:5.745\n",
      "TỈNH YÊN BÁI:5.622\n",
      "TỈNH BẮC KẠN:5.552\n",
      " TỈNH LẠNG SƠN:5.53\n",
      "TỈNH ĐIỆN BIÊN:5.481\n",
      "TỈNH HÒA BÌNH:5.342\n",
      "TỈNH SƠN LA:5.287\n",
      "TỈNH CAO BẰNG:5.173\n",
      "TỈNH HÀ GIANG:4.697\n"
     ]
    }
   ],
   "source": [
    "all_average_math()"
   ]
  }
 ],
 "metadata": {
  "kernelspec": {
   "display_name": "Python 3 (ipykernel)",
   "language": "python",
   "name": "python3"
  },
  "language_info": {
   "codemirror_mode": {
    "name": "ipython",
    "version": 3
   },
   "file_extension": ".py",
   "mimetype": "text/x-python",
   "name": "python",
   "nbconvert_exporter": "python",
   "pygments_lexer": "ipython3",
   "version": "3.9.13"
  }
 },
 "nbformat": 4,
 "nbformat_minor": 5
}
