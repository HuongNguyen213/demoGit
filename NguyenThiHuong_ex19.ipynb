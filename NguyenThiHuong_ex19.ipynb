{
 "cells": [
  {
   "cell_type": "markdown",
   "id": "a8344064",
   "metadata": {},
   "source": [
    "#### Write a Python program to print the 5 most frequent words and their occurrences in a file.\n"
   ]
  },
  {
   "cell_type": "code",
   "execution_count": 65,
   "id": "cddceeeb",
   "metadata": {},
   "outputs": [
    {
     "name": "stdout",
     "output_type": "stream",
     "text": [
      "\n",
      "Enter the n most frequency: 5\n",
      "5 words with the most frequency are:\n",
      "\n",
      " 1.đấu : 40\n",
      " 2.của : 35\n",
      " 3.giải : 25\n",
      " 4.không : 25\n",
      " 5.bóng : 20\n",
      "\n",
      "\n"
     ]
    }
   ],
   "source": [
    "from collections import Counter\n",
    "def Frequent_word():\n",
    "    # Read the file\n",
    "    f =  open(\"data/text1.txt\", encoding=\"utf8\")\n",
    "    data = f.read()\n",
    "\n",
    "    # Count the occurrences of each word\n",
    "    words = data.split()\n",
    "    word_counts = Counter(words)\n",
    "\n",
    "    # Print the nth most frequent words and their counts\n",
    "    frequency_word = int(input('\\nEnter the n most frequency: '))\n",
    "    print(str(frequency_word)+ ' words with the most frequency are:\\n')\n",
    "\n",
    "    for i,(word, count) in enumerate( word_counts.most_common(frequency_word)):\n",
    "\n",
    "        print(f\" {i+1}.{word} : {count}\")\n",
    "    print('\\n')\n",
    "Frequent_word()"
   ]
  },
  {
   "cell_type": "code",
   "execution_count": null,
   "id": "516ddb2f",
   "metadata": {},
   "outputs": [],
   "source": []
  }
 ],
 "metadata": {
  "kernelspec": {
   "display_name": "Python 3 (ipykernel)",
   "language": "python",
   "name": "python3"
  },
  "language_info": {
   "codemirror_mode": {
    "name": "ipython",
    "version": 3
   },
   "file_extension": ".py",
   "mimetype": "text/x-python",
   "name": "python",
   "nbconvert_exporter": "python",
   "pygments_lexer": "ipython3",
   "version": "3.9.13"
  }
 },
 "nbformat": 4,
 "nbformat_minor": 5
}
