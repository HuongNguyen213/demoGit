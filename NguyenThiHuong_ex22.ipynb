{
 "cells": [
  {
   "cell_type": "markdown",
   "id": "dd99918c",
   "metadata": {},
   "source": [
    "#### Write a Python Program uses recursive function & solves the tower of Hanoi problem: move n disks from source A to destination B in using the temporary C:\n",
    "\n",
    "Example:\n",
    "1.\n",
    "Input: n=1\n",
    "Output:\n",
    "A->B\n",
    "\n",
    "2. \n",
    "Input: n=2\n",
    "Output:\n",
    "A->C\n",
    "A->B\n",
    "C->B"
   ]
  },
  {
   "cell_type": "code",
   "execution_count": 1,
   "id": "4c8e793d",
   "metadata": {},
   "outputs": [
    {
     "name": "stdout",
     "output_type": "stream",
     "text": [
      "Enter the number of disk: 4\n",
      "Move disk 1 from source A to destination C\n",
      "Move disk 2 from source A to destination B\n",
      "Move disk 1 from source C to destination B\n",
      "Move disk 3 from source A to destination C\n",
      "Move disk 1 from source B to destination A\n",
      "Move disk 2 from source B to destination C\n",
      "Move disk 1 from source A to destination C\n",
      "Move disk 4 from source A to destination B\n",
      "Move disk 1 from source C to destination B\n",
      "Move disk 2 from source C to destination A\n",
      "Move disk 1 from source B to destination A\n",
      "Move disk 3 from source C to destination B\n",
      "Move disk 1 from source A to destination C\n",
      "Move disk 2 from source A to destination B\n",
      "Move disk 1 from source C to destination B\n"
     ]
    }
   ],
   "source": [
    "def ex22(n, source, destination, auxiliary):\n",
    "    if n == 1: \n",
    "        print(\"Move disk 1 from source\", source, \"to destination\", destination)\n",
    "        return\n",
    "    ex22(n-1, source, auxiliary, destination)\n",
    "    print(\"Move disk\", n, \"from source\", source, \"to destination\", destination)\n",
    "    ex22(n-1, auxiliary, destination, source)\n",
    "    \n",
    "Num = int(input(\"Enter the number of disk: \"))\n",
    "ex22(Num, 'A', 'B', 'C')\n",
    "          "
   ]
  }
 ],
 "metadata": {
  "kernelspec": {
   "display_name": "Python 3 (ipykernel)",
   "language": "python",
   "name": "python3"
  },
  "language_info": {
   "codemirror_mode": {
    "name": "ipython",
    "version": 3
   },
   "file_extension": ".py",
   "mimetype": "text/x-python",
   "name": "python",
   "nbconvert_exporter": "python",
   "pygments_lexer": "ipython3",
   "version": "3.9.13"
  }
 },
 "nbformat": 4,
 "nbformat_minor": 5
}
