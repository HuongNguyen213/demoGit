{
 "cells": [
  {
   "cell_type": "code",
   "execution_count": 3,
   "id": "e267680a",
   "metadata": {},
   "outputs": [
    {
     "name": "stdout",
     "output_type": "stream",
     "text": [
      "Enter number of elements in list: 2\n",
      "Enter elements: 1\n",
      "Enter elements: 32\n",
      "Largest element is: 32\n"
     ]
    }
   ],
   "source": [
    "lst = []\n",
    "num = int(input(\"Enter number of elements in list: \"))\n",
    "for i in range(1, num + 1):\n",
    "    ele = int(input(\"Enter elements: \"))\n",
    "    lst.append(ele)\n",
    "    \n",
    "print(\"Largest element is:\", max(lst))"
   ]
  }
 ],
 "metadata": {
  "kernelspec": {
   "display_name": "Python 3 (ipykernel)",
   "language": "python",
   "name": "python3"
  },
  "language_info": {
   "codemirror_mode": {
    "name": "ipython",
    "version": 3
   },
   "file_extension": ".py",
   "mimetype": "text/x-python",
   "name": "python",
   "nbconvert_exporter": "python",
   "pygments_lexer": "ipython3",
   "version": "3.9.13"
  }
 },
 "nbformat": 4,
 "nbformat_minor": 5
}
