{
 "cells": [
  {
   "cell_type": "markdown",
   "id": "1e2f2440",
   "metadata": {},
   "source": [
    "Write a Python program to:\n",
    "- Enter the coefficients a, b, c of the quadratic equation.\n",
    "- Solve that quadratic equation.\n"
   ]
  },
  {
   "cell_type": "code",
   "execution_count": 10,
   "id": "fbfe148e",
   "metadata": {},
   "outputs": [
    {
     "name": "stdout",
     "output_type": "stream",
     "text": [
      "Enter an integer number: 1\n",
      "Enter an integer number: 6\n",
      "Enter an integer number: 2\n",
      "Phương trình có 2 nghiệm:\n",
      "Nghiệm 1: 5.645751311064591\n",
      "Nghiệm 2: -0.3542486889354093\n"
     ]
    }
   ],
   "source": [
    "import math\n",
    "\n",
    "def ex5(a, b, c):\n",
    "    denta = b**2 - 4*a*c\n",
    "    sdenta = math.sqrt(denta)\n",
    "    if denta > 0:\n",
    "        print(\"Phương trình có 2 nghiệm:\")\n",
    "        x1 = (b+sdenta) / (2*a)\n",
    "        x2 = (-b+sdenta) / (2*a)\n",
    "        print(\"Nghiệm 1:\", x1)\n",
    "        print(\"Nghiệm 2:\", x2)\n",
    "    elif denta == 0:\n",
    "        x = -b/(2*a)\n",
    "        print(\"Phương trình có 1 nghiệm: \",  x)\n",
    "    else:\n",
    "        print(\"Phương trình vô nghiệm\")\n",
    "\n",
    "number1 = int(input(\"Enter an integer number: \"))\n",
    "number2 = int(input(\"Enter an integer number: \"))\n",
    "number3 = int(input(\"Enter an integer number: \"))\n",
    "\n",
    "ex5(number1, number2, number3)"
   ]
  },
  {
   "cell_type": "code",
   "execution_count": null,
   "id": "e350a050",
   "metadata": {},
   "outputs": [],
   "source": []
  }
 ],
 "metadata": {
  "kernelspec": {
   "display_name": "Python 3 (ipykernel)",
   "language": "python",
   "name": "python3"
  },
  "language_info": {
   "codemirror_mode": {
    "name": "ipython",
    "version": 3
   },
   "file_extension": ".py",
   "mimetype": "text/x-python",
   "name": "python",
   "nbconvert_exporter": "python",
   "pygments_lexer": "ipython3",
   "version": "3.9.13"
  }
 },
 "nbformat": 4,
 "nbformat_minor": 5
}
