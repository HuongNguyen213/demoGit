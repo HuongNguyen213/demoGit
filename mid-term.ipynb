{
 "cells": [
  {
   "cell_type": "markdown",
   "id": "33a520a4",
   "metadata": {},
   "source": [
    "#### Write a Python program that:\n",
    "- Have a function count_word that takes a list of strings and a letter as inputs and returns the number of strings in the list that start with that letter.\n",
    "- Read 2 files: \"input01.txt\", \"input02.txt\" and tell which file has more words that start with the letter \"a\"."
   ]
  },
  {
   "cell_type": "code",
   "execution_count": 20,
   "id": "70892cd8",
   "metadata": {},
   "outputs": [
    {
     "name": "stdout",
     "output_type": "stream",
     "text": [
      "Enter your strings:Have a function count_word that takes a list of strings and a letter as inputs and returns the number of strings in the list that start with that letter.\n",
      "Enter the letter: l\n"
     ]
    },
    {
     "data": {
      "text/plain": [
       "4"
      ]
     },
     "execution_count": 20,
     "metadata": {},
     "output_type": "execute_result"
    }
   ],
   "source": [
    "def count_word(lst, character):\n",
    "    count = 0\n",
    "    for i in lst:\n",
    "        if i[0] == character:\n",
    "#             print(i)\n",
    "            count += 1\n",
    "    return count\n",
    "\n",
    "strings = input(\"Enter your strings:\")\n",
    "lst_str = strings.split()\n",
    "letter = input(\"Enter the letter: \")\n",
    "count_word(lst_str, letter)"
   ]
  },
  {
   "cell_type": "code",
   "execution_count": 26,
   "id": "9b1ecf33",
   "metadata": {},
   "outputs": [
    {
     "data": {
      "text/plain": [
       "'File input01 has more words start by a than file input02'"
      ]
     },
     "execution_count": 26,
     "metadata": {},
     "output_type": "execute_result"
    }
   ],
   "source": [
    "import os\n",
    "\n",
    "def count_word_start_a(link_file):\n",
    "    if os.path.exists(link_file):\n",
    "        f = open(link_file, encoding=\"utf8\")\n",
    "        data = f.read()\n",
    "        words = data.split()\n",
    "        count = 0\n",
    "        for i in words:\n",
    "            if i[0] == 'a':\n",
    "                count+=1\n",
    "        return count\n",
    "\n",
    "def compare():\n",
    "    if count_word_start_a(\"input01\") > count_word_start_a(\"input02\"):\n",
    "        return f\"File input01 has more words start by a than file input02\"\n",
    "    else:\n",
    "        return f\"File input02 has more words start by a than file input01\"\n",
    "\n",
    "compare()\n",
    "    \n",
    "    "
   ]
  },
  {
   "cell_type": "code",
   "execution_count": null,
   "id": "4606753f",
   "metadata": {},
   "outputs": [],
   "source": [
    "import os\n",
    "\n",
    "def count_word_start_a(link_file):\n",
    "    if os.path.exists(link_file):\n",
    "        f = open(link_file, encoding=\"utf8\")\n",
    "        data = f.read()\n",
    "        words = data.split()\n",
    "        count = 0\n",
    "        for i in words:\n",
    "            if i[0] == 'a':\n",
    "                count+=1\n",
    "        return count\n",
    "\n",
    "def compare():\n",
    "    if count_word_start_a(\"input01\") > count_word_start_a(\"input02\"):\n",
    "        return f\"File input01 has more words start by a than file input02\"\n",
    "    else:\n",
    "        return f\"File input02 has more words start by a than file input01\"\n",
    "\n",
    "def count_word(lst, character):\n",
    "    count = 0\n",
    "    for i in lst:\n",
    "        if i[0] == character:\n",
    "#             print(i)\n",
    "            count += 1\n",
    "    print(count)\n",
    "\n",
    "print(\"ex1\")\n",
    "strings = input(\"Enter your strings:\")\n",
    "lst_str = strings.split()\n",
    "letter = input(\"Enter the letter: \")\n",
    "count_word(lst_str, letter)\n",
    "print(\"ex2\")\n",
    "compare()"
   ]
  },
  {
   "cell_type": "code",
   "execution_count": 38,
   "id": "f980b62e",
   "metadata": {},
   "outputs": [
    {
     "ename": "SyntaxError",
     "evalue": "'break' outside loop (2906453608.py, line 46)",
     "output_type": "error",
     "traceback": [
      "\u001b[1;36m  File \u001b[1;32m\"C:\\Users\\Administrator\\AppData\\Local\\Temp\\ipykernel_4004\\2906453608.py\"\u001b[1;36m, line \u001b[1;32m46\u001b[0m\n\u001b[1;33m    break\u001b[0m\n\u001b[1;37m    ^\u001b[0m\n\u001b[1;31mSyntaxError\u001b[0m\u001b[1;31m:\u001b[0m 'break' outside loop\n"
     ]
    }
   ],
   "source": [
    "import os\n",
    "\n",
    "def count_word_start_a(link_file):\n",
    "    if os.path.exists(link_file):\n",
    "        f = open(link_file, encoding=\"utf8\")\n",
    "        data = f.read()\n",
    "        words = data.split()\n",
    "        count = 0\n",
    "        for i in words:\n",
    "            if i[0] == 'a':\n",
    "                count+=1\n",
    "        return count\n",
    "\n",
    "def compare():\n",
    "    if count_word_start_a(\"input01\") > count_word_start_a(\"input02\"):\n",
    "        return f\"File input01 has more words start by a than file input02\"\n",
    "    else:\n",
    "        return f\"File input02 has more words start by a than file input01\"\n",
    "\n",
    "def count_word(lst, character):\n",
    "    count = 0\n",
    "    for i in lst:\n",
    "        if i[0] == character:\n",
    "#             print(i)\n",
    "            count += 1\n",
    "    print(count)\n",
    "    \n",
    "\n",
    "def main():\n",
    "    print(\"Menu: \")\n",
    "    print(\"1. EX1: Have a function count_word that takes a list of strings and a letter as inputs and returns the number of strings in the list that start with that letter.\")\n",
    "    print(\"2.EX2:Read 2 files: \\\"input01.txt\\\", \\\"input02.txt\\\" and tell which file has more words that start with the letter a.\")\n",
    "    print(\"3.Exit\")\n",
    "    choice = int(input(\"Enter your choice:\"))\n",
    "    if choice == 1:\n",
    "        print(\"ex1\")\n",
    "        strings = input(\"Enter your strings:\")\n",
    "        lst_str = strings.split()\n",
    "        letter = input(\"Enter the letter: \")\n",
    "        count_word(lst_str, letter)\n",
    "        return main\n",
    "    elif choice ==2:\n",
    "        print(\"ex2\")\n",
    "        compare()\n",
    "    else:\n",
    "        break\n",
    "\n",
    "if __name__ == \"__main__\":\n",
    "    main()"
   ]
  }
 ],
 "metadata": {
  "kernelspec": {
   "display_name": "Python 3 (ipykernel)",
   "language": "python",
   "name": "python3"
  },
  "language_info": {
   "codemirror_mode": {
    "name": "ipython",
    "version": 3
   },
   "file_extension": ".py",
   "mimetype": "text/x-python",
   "name": "python",
   "nbconvert_exporter": "python",
   "pygments_lexer": "ipython3",
   "version": "3.9.13"
  }
 },
 "nbformat": 4,
 "nbformat_minor": 5
}
