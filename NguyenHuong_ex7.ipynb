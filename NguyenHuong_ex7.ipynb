{
 "cells": [
  {
   "cell_type": "markdown",
   "id": "fe10865b",
   "metadata": {},
   "source": [
    "Write a Python program to input a number from user and find all factors of\n",
    "the given number using for loop. How to find factors of a number in \n",
    "\n",
    "Python\n",
    "program. Logic to find all factors of a given number in \n",
    "\n",
    "Python  programming.\n",
    "Example\n",
    "Input\n",
    "Input number: 12\n",
    "Output\n",
    "Factors of 12: 1, 2, 3, 4, 6, 12"
   ]
  },
  {
   "cell_type": "code",
   "execution_count": 3,
   "id": "dcf8b0ac",
   "metadata": {},
   "outputs": [
    {
     "name": "stdout",
     "output_type": "stream",
     "text": [
      "Enter an integer number:12\n",
      "The factors of 12 are:\n",
      "1\n",
      "2\n",
      "3\n",
      "4\n",
      "6\n",
      "12\n"
     ]
    }
   ],
   "source": [
    "def ex6(n):\n",
    "   print(\"The factors of\", n ,\"are:\")\n",
    "   for i in range(1, n + 1):\n",
    "       if n % i == 0:\n",
    "           print(i)\n",
    "            \n",
    "number = int(input(\"Enter an integer number:\"))\n",
    "ex6(number)"
   ]
  }
 ],
 "metadata": {
  "kernelspec": {
   "display_name": "Python 3 (ipykernel)",
   "language": "python",
   "name": "python3"
  },
  "language_info": {
   "codemirror_mode": {
    "name": "ipython",
    "version": 3
   },
   "file_extension": ".py",
   "mimetype": "text/x-python",
   "name": "python",
   "nbconvert_exporter": "python",
   "pygments_lexer": "ipython3",
   "version": "3.9.13"
  }
 },
 "nbformat": 4,
 "nbformat_minor": 5
}
