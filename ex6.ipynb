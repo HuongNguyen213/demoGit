{
 "cells": [
  {
   "cell_type": "markdown",
   "id": "a2bdd834",
   "metadata": {},
   "source": [
    "Write a Python program to:\n",
    "- Ask the user to enter an natural number n.\n",
    "- Print the Fibonacci series up to n terms (using loop)."
   ]
  },
  {
   "cell_type": "code",
   "execution_count": 6,
   "id": "f8c8f49e",
   "metadata": {},
   "outputs": [
    {
     "name": "stdout",
     "output_type": "stream",
     "text": [
      "Enter an integer number: 5\n",
      "Fibonacci sequence:\n",
      "0\n",
      "1\n",
      "1\n",
      "2\n",
      "3\n",
      "5\n",
      "8\n"
     ]
    }
   ],
   "source": [
    "def ex6(n):\n",
    "    count = 0\n",
    "    fib1 = 0\n",
    "    fib2 = 1\n",
    "    if n <= 0:\n",
    "        print(\"Null\")\n",
    "    elif n == 1:\n",
    "        print(\"Fibonacci sequence:\")\n",
    "        print(0)\n",
    "    elif n == 2:\n",
    "        print(\"Fibonacci sequence:\")\n",
    "        print(fib1)\n",
    "        print(fib2)\n",
    "    elif n > 2:\n",
    "        print(\"Fibonacci sequence:\")\n",
    "        print(fib1)\n",
    "        print(fib2)\n",
    "        while count < n:\n",
    "            fib = fib1 + fib2\n",
    "            print(fib)\n",
    "            fib1 = fib2\n",
    "            fib2 = fib\n",
    "            count += 1\n",
    "\n",
    "number = int(input(\"Enter an integer number: \"))\n",
    "ex6(number)\n",
    "        "
   ]
  }
 ],
 "metadata": {
  "kernelspec": {
   "display_name": "Python 3 (ipykernel)",
   "language": "python",
   "name": "python3"
  },
  "language_info": {
   "codemirror_mode": {
    "name": "ipython",
    "version": 3
   },
   "file_extension": ".py",
   "mimetype": "text/x-python",
   "name": "python",
   "nbconvert_exporter": "python",
   "pygments_lexer": "ipython3",
   "version": "3.9.13"
  }
 },
 "nbformat": 4,
 "nbformat_minor": 5
}
