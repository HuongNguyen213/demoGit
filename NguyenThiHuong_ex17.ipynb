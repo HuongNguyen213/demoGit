{
 "cells": [
  {
   "cell_type": "markdown",
   "id": "10f76ee4",
   "metadata": {},
   "source": [
    "#### Create a class called \"BankAccount\" with properties for account number and balance. Create methods called \"deposit\" and \"withdraw\" that modify the balance. Create an instance of the class, deposit some money, withdraw some money, and print the balance."
   ]
  },
  {
   "cell_type": "code",
   "execution_count": 2,
   "id": "9c161206",
   "metadata": {},
   "outputs": [],
   "source": [
    "class BankAccount:\n",
    "    def __init__ (self, accountNumber, balance):\n",
    "        self.accountNumber = accountNumber\n",
    "        self.balance = balance\n",
    "    \n",
    "    def deposit(self, amount):\n",
    "        self.balance += amount\n",
    "        return self.balance\n",
    "    \n",
    "    def withdraw(self, amount):\n",
    "        if amount <= self.balance:\n",
    "            self.balance -= amount\n",
    "        else:\n",
    "            print(\"Your balance of your account is not enough\")"
   ]
  },
  {
   "cell_type": "code",
   "execution_count": 32,
   "id": "061935d1",
   "metadata": {},
   "outputs": [
    {
     "name": "stdout",
     "output_type": "stream",
     "text": [
      "997000\n"
     ]
    }
   ],
   "source": [
    "myAccount = BankAccount(12345, 1000000)\n",
    "myAccount.deposit(5000)\n",
    "myAccount.withdraw(8000)\n",
    "print(myAccount.balance)"
   ]
  },
  {
   "cell_type": "code",
   "execution_count": null,
   "id": "04ac55c3",
   "metadata": {},
   "outputs": [],
   "source": [
    "print"
   ]
  },
  {
   "cell_type": "code",
   "execution_count": null,
   "id": "dbc8ec82",
   "metadata": {},
   "outputs": [],
   "source": []
  }
 ],
 "metadata": {
  "kernelspec": {
   "display_name": "Python 3 (ipykernel)",
   "language": "python",
   "name": "python3"
  },
  "language_info": {
   "codemirror_mode": {
    "name": "ipython",
    "version": 3
   },
   "file_extension": ".py",
   "mimetype": "text/x-python",
   "name": "python",
   "nbconvert_exporter": "python",
   "pygments_lexer": "ipython3",
   "version": "3.9.13"
  }
 },
 "nbformat": 4,
 "nbformat_minor": 5
}
