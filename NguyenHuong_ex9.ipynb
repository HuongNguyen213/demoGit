{
 "cells": [
  {
   "cell_type": "markdown",
   "id": "9057a20b",
   "metadata": {},
   "source": [
    "### Write a Python program to convert lower letter to upper and upper letter to lower in a string.\n"
   ]
  },
  {
   "cell_type": "code",
   "execution_count": 3,
   "id": "033bfae9",
   "metadata": {},
   "outputs": [
    {
     "name": "stdout",
     "output_type": "stream",
     "text": [
      "Enter your string:Hello\n"
     ]
    }
   ],
   "source": [
    "string = input(\"Enter your string:\")"
   ]
  },
  {
   "cell_type": "code",
   "execution_count": 4,
   "id": "f9f92d14",
   "metadata": {},
   "outputs": [
    {
     "name": "stdout",
     "output_type": "stream",
     "text": [
      "hELLO\n"
     ]
    }
   ],
   "source": [
    "print(''.join([c.upper() if c.islower() else c.lower() for c in string]))"
   ]
  },
  {
   "cell_type": "code",
   "execution_count": 23,
   "id": "dc3fac0a",
   "metadata": {},
   "outputs": [
    {
     "data": {
      "text/plain": [
       "'Hello'"
      ]
     },
     "execution_count": 23,
     "metadata": {},
     "output_type": "execute_result"
    }
   ],
   "source": [
    "def swap(str):\n",
    "    \n",
    "swap(string)"
   ]
  },
  {
   "cell_type": "code",
   "execution_count": null,
   "id": "68c379b1",
   "metadata": {},
   "outputs": [],
   "source": []
  }
 ],
 "metadata": {
  "kernelspec": {
   "display_name": "Python 3 (ipykernel)",
   "language": "python",
   "name": "python3"
  },
  "language_info": {
   "codemirror_mode": {
    "name": "ipython",
    "version": 3
   },
   "file_extension": ".py",
   "mimetype": "text/x-python",
   "name": "python",
   "nbconvert_exporter": "python",
   "pygments_lexer": "ipython3",
   "version": "3.9.13"
  }
 },
 "nbformat": 4,
 "nbformat_minor": 5
}
