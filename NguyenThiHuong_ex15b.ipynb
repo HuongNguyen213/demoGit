{
 "cells": [
  {
   "cell_type": "markdown",
   "id": "80399fd7",
   "metadata": {},
   "source": [
    "#### Write a lambda function that takes a list of strings as input and returns a new list with only the strings that have more than 5 characters.Example\n",
    "Input: [\"apple\", \"banana\", \"cherry\", \"watermelon\", \"grapefruit\", \"pear\"]\n",
    "Output: \n",
    "\n",
    "['banana', 'cherry', 'watermelon', 'grapefruit']"
   ]
  },
  {
   "cell_type": "code",
   "execution_count": 2,
   "id": "66c65cc0",
   "metadata": {},
   "outputs": [
    {
     "name": "stdout",
     "output_type": "stream",
     "text": [
      "Enter a list of strings: apple banana cherry watermelon grapefruit pear\n",
      "['banana', 'cherry', 'watermelon', 'grapefruit']\n"
     ]
    }
   ],
   "source": [
    "lst1 = []\n",
    "lst = input(\"Enter a list of strings: \")\n",
    "for i in lst.split():\n",
    "    lst1.append(i)\n",
    "\n",
    "new_list = list(filter(lambda a: (len(a) > 5) , lst1))\n",
    "\n",
    "print(new_list)"
   ]
  },
  {
   "cell_type": "code",
   "execution_count": null,
   "id": "cd3dba50",
   "metadata": {},
   "outputs": [],
   "source": []
  }
 ],
 "metadata": {
  "kernelspec": {
   "display_name": "Python 3 (ipykernel)",
   "language": "python",
   "name": "python3"
  },
  "language_info": {
   "codemirror_mode": {
    "name": "ipython",
    "version": 3
   },
   "file_extension": ".py",
   "mimetype": "text/x-python",
   "name": "python",
   "nbconvert_exporter": "python",
   "pygments_lexer": "ipython3",
   "version": "3.9.13"
  }
 },
 "nbformat": 4,
 "nbformat_minor": 5
}
