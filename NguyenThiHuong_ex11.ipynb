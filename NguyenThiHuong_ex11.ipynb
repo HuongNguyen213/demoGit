{
 "cells": [
  {
   "cell_type": "markdown",
   "id": "efd7a980",
   "metadata": {},
   "source": [
    "### Write a Python program to reverse a string entered by the user."
   ]
  },
  {
   "cell_type": "code",
   "execution_count": 11,
   "id": "85516243",
   "metadata": {},
   "outputs": [],
   "source": [
    "# def reverse(string):\n",
    "def reverse(string):\n",
    "    string = string[::-1]\n",
    "    return string"
   ]
  },
  {
   "cell_type": "code",
   "execution_count": 12,
   "id": "4224a428",
   "metadata": {},
   "outputs": [
    {
     "name": "stdout",
     "output_type": "stream",
     "text": [
      "Enter your string:hello\n"
     ]
    }
   ],
   "source": [
    "lst = input(\"Enter your string:\")"
   ]
  },
  {
   "cell_type": "code",
   "execution_count": 13,
   "id": "2f8c4166",
   "metadata": {},
   "outputs": [
    {
     "data": {
      "text/plain": [
       "'olleh'"
      ]
     },
     "execution_count": 13,
     "metadata": {},
     "output_type": "execute_result"
    }
   ],
   "source": [
    "reverse(lst)"
   ]
  },
  {
   "cell_type": "code",
   "execution_count": null,
   "id": "cff32830",
   "metadata": {},
   "outputs": [],
   "source": []
  }
 ],
 "metadata": {
  "kernelspec": {
   "display_name": "Python 3 (ipykernel)",
   "language": "python",
   "name": "python3"
  },
  "language_info": {
   "codemirror_mode": {
    "name": "ipython",
    "version": 3
   },
   "file_extension": ".py",
   "mimetype": "text/x-python",
   "name": "python",
   "nbconvert_exporter": "python",
   "pygments_lexer": "ipython3",
   "version": "3.9.13"
  }
 },
 "nbformat": 4,
 "nbformat_minor": 5
}
