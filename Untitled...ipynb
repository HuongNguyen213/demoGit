{
 "cells": [
  {
   "cell_type": "code",
   "execution_count": 6,
   "id": "2795d7df",
   "metadata": {},
   "outputs": [
    {
     "name": "stdout",
     "output_type": "stream",
     "text": [
      "ex1\n",
      "Enter your strings:takes a list of strings and a letter as inputs and returns the number of strings in the list that start with that letter. Read 2 files: \"input01.txt\", \"input02.txt\" and tell which file has more words that start with the letter \"a\".Have a function count_word that takes a list of strings and a letter as inputs and returns the number of strings in the list that start with that letter. Read 2 files: \"input01.txt\", \"input02.txt\" and tell which file has more words that start with the letter \"a\".Have a function count_word that takes a list of strings and a letter as inputs and returns the number of strings in the list that start with that letter. Read 2 files: \"input01.txt\", \"input02.txt\" and tell which file has more words that start with the letter \"a\".\n",
      "Enter the letter: l\n",
      "15\n",
      "ex2\n"
     ]
    },
    {
     "data": {
      "text/plain": [
       "'File input01 has more words start by a than file input02'"
      ]
     },
     "execution_count": 6,
     "metadata": {},
     "output_type": "execute_result"
    }
   ],
   "source": [
    "import os\n",
    "\n",
    "def count_word_start_a(link_file):\n",
    "    if os.path.exists(link_file):\n",
    "        f = open(link_file, encoding=\"utf8\")\n",
    "        data = f.read()\n",
    "        words = data.split()\n",
    "        count = 0\n",
    "        for i in words:\n",
    "            if i[0] == 'a':\n",
    "                count+=1\n",
    "        return count\n",
    "\n",
    "def compare():\n",
    "    if count_word_start_a(\"input01\") > count_word_start_a(\"input02\"):\n",
    "        return f\"File input01 has more words start by a than file input02\"\n",
    "    else:\n",
    "        return f\"File input02 has more words start by a than file input01\"\n",
    "\n",
    "def count_word(lst, character):\n",
    "    count = 0\n",
    "    for i in lst:\n",
    "        if i[0] == character:\n",
    "#             print(i)\n",
    "            count += 1\n",
    "    print(count)\n",
    "\n",
    "print(\"ex1\")\n",
    "strings = input(\"Enter your strings:\")\n",
    "lst_str = strings.split()\n",
    "letter = input(\"Enter the letter: \")\n",
    "count_word(lst_str, letter)\n",
    "print(\"ex2\")\n",
    "compare()"
   ]
  }
 ],
 "metadata": {
  "kernelspec": {
   "display_name": "Python 3 (ipykernel)",
   "language": "python",
   "name": "python3"
  },
  "language_info": {
   "codemirror_mode": {
    "name": "ipython",
    "version": 3
   },
   "file_extension": ".py",
   "mimetype": "text/x-python",
   "name": "python",
   "nbconvert_exporter": "python",
   "pygments_lexer": "ipython3",
   "version": "3.9.13"
  }
 },
 "nbformat": 4,
 "nbformat_minor": 5
}
