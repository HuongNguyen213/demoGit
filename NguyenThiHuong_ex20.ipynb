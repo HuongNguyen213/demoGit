{
 "cells": [
  {
   "cell_type": "markdown",
   "id": "c31d3c16",
   "metadata": {},
   "source": [
    "#### Write a Python program that reads a text file \"input.txt\", Extract all dates in the format \"dd/mm/yyyy\", and writes the result to a new file called \"output.txt\".\n"
   ]
  },
  {
   "cell_type": "code",
   "execution_count": 48,
   "id": "a50487fb",
   "metadata": {},
   "outputs": [],
   "source": [
    "import os\n",
    "import re\n",
    "\n",
    "\n",
    "f1 = open(\"output.txt\", \"w+\", encoding=\"utf8\")\n",
    "if os.path.exists(\"data/input.txt\"):\n",
    "    f = open(\"data/input.txt\", \"r+\", encoding=\"utf8\")\n",
    "    data = f.read()\n",
    "    f.read()\n",
    "    f.close()\n",
    "    d = re.findall(r'\\d\\d/\\d\\d/\\d\\d\\d\\d', data)\n",
    "    for i in d:\n",
    "        f1.write(f'{i} \\n')\n",
    "\n",
    "    f1.close()\n",
    "else:\n",
    "    raise FileExistsError(\"The file does not exists!\")\n",
    "    \n"
   ]
  },
  {
   "cell_type": "code",
   "execution_count": null,
   "id": "14a05c3b",
   "metadata": {},
   "outputs": [],
   "source": []
  }
 ],
 "metadata": {
  "kernelspec": {
   "display_name": "Python 3 (ipykernel)",
   "language": "python",
   "name": "python3"
  },
  "language_info": {
   "codemirror_mode": {
    "name": "ipython",
    "version": 3
   },
   "file_extension": ".py",
   "mimetype": "text/x-python",
   "name": "python",
   "nbconvert_exporter": "python",
   "pygments_lexer": "ipython3",
   "version": "3.9.13"
  }
 },
 "nbformat": 4,
 "nbformat_minor": 5
}
