{
 "cells": [
  {
   "cell_type": "markdown",
   "id": "eb7eb8cf",
   "metadata": {},
   "source": [
    "### Write a Python Program:\n",
    "- Read a string Str from the keyboard \n",
    "- Count the number of each alphabet letter in Str (case insensitive).\n",
    "\n",
    "Input a string:  Hello Hai Anh !!!\n",
    "Expected output:\n",
    "a:2\n",
    "e:1\n",
    "h:3\n",
    "i:1\n",
    "l:2\n",
    "n:1\n",
    "o:1"
   ]
  },
  {
   "cell_type": "code",
   "execution_count": 39,
   "id": "c5982e5e",
   "metadata": {},
   "outputs": [],
   "source": [
    "def countLetter(s):\n",
    "    l = []\n",
    "    diction = dict()\n",
    "    for i in s:\n",
    "        l.append(i.lower())\n",
    "    i = 0\n",
    "    j = i+1\n",
    "    x = list(sorted(l))\n",
    "    for i in range(len(x)):\n",
    "        for j in range(len(x)):\n",
    "            if x[i]==x[j]:\n",
    "                diction[x[i]] = x.count(x[i])\n",
    "    print(diction)"
   ]
  },
  {
   "cell_type": "code",
   "execution_count": 42,
   "id": "3805706e",
   "metadata": {},
   "outputs": [
    {
     "name": "stdout",
     "output_type": "stream",
     "text": [
      "Enter your string: Hello Hai Anh !!!\n"
     ]
    }
   ],
   "source": [
    "str = input(\"Enter your string: \")"
   ]
  },
  {
   "cell_type": "code",
   "execution_count": 43,
   "id": "af64e6f0",
   "metadata": {},
   "outputs": [
    {
     "name": "stdout",
     "output_type": "stream",
     "text": [
      "{' ': 3, '!': 3, 'a': 2, 'e': 1, 'h': 3, 'i': 1, 'l': 2, 'n': 1, 'o': 1}\n"
     ]
    }
   ],
   "source": [
    "countLetter(str)"
   ]
  }
 ],
 "metadata": {
  "kernelspec": {
   "display_name": "Python 3 (ipykernel)",
   "language": "python",
   "name": "python3"
  },
  "language_info": {
   "codemirror_mode": {
    "name": "ipython",
    "version": 3
   },
   "file_extension": ".py",
   "mimetype": "text/x-python",
   "name": "python",
   "nbconvert_exporter": "python",
   "pygments_lexer": "ipython3",
   "version": "3.9.13"
  }
 },
 "nbformat": 4,
 "nbformat_minor": 5
}
