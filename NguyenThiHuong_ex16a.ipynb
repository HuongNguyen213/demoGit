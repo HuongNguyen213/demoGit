{
 "cells": [
  {
   "cell_type": "markdown",
   "id": "55a1faf1",
   "metadata": {},
   "source": [
    "### Given an input string, when the first and last letters are equal, print the string with the first and last letters removed. Otherwise, print the original string.\n",
    "\n",
    "Input: \"apple\"\n",
    "Output: \"apple\"\n",
    "\n",
    "Input: \"test\"\n",
    "Output: \"es\"\n",
    "\n",
    "Input: \"west\"\n",
    "Output: \"west\"\n"
   ]
  },
  {
   "cell_type": "code",
   "execution_count": 9,
   "id": "559698e8",
   "metadata": {},
   "outputs": [],
   "source": [
    "def ex16a(lst):\n",
    "    if lst[0]==lst[-1]:\n",
    "        return lst[1:-1]\n",
    "    else:\n",
    "        return lst"
   ]
  },
  {
   "cell_type": "code",
   "execution_count": 12,
   "id": "7f6167b6",
   "metadata": {},
   "outputs": [
    {
     "name": "stdout",
     "output_type": "stream",
     "text": [
      "Enter your string:test\n"
     ]
    }
   ],
   "source": [
    "ele = input(\"Enter your string:\")"
   ]
  },
  {
   "cell_type": "code",
   "execution_count": 13,
   "id": "5e35cf5a",
   "metadata": {},
   "outputs": [
    {
     "data": {
      "text/plain": [
       "'es'"
      ]
     },
     "execution_count": 13,
     "metadata": {},
     "output_type": "execute_result"
    }
   ],
   "source": [
    "ex16a(ele)"
   ]
  }
 ],
 "metadata": {
  "kernelspec": {
   "display_name": "Python 3 (ipykernel)",
   "language": "python",
   "name": "python3"
  },
  "language_info": {
   "codemirror_mode": {
    "name": "ipython",
    "version": 3
   },
   "file_extension": ".py",
   "mimetype": "text/x-python",
   "name": "python",
   "nbconvert_exporter": "python",
   "pygments_lexer": "ipython3",
   "version": "3.9.13"
  }
 },
 "nbformat": 4,
 "nbformat_minor": 5
}
