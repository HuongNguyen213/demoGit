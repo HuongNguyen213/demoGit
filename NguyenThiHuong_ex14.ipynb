{
 "cells": [
  {
   "cell_type": "markdown",
   "id": "14ff24f6",
   "metadata": {},
   "source": [
    "#### Write a function that takes a list of strings as input and returns a new list with all the strings capitalized.\n",
    "\n",
    "Example\n",
    "Input: [\"apple\", \"banana\", \"cherry\"]\n",
    "Output: [\"Apple\", \"Banana\", \"Cherry\"]"
   ]
  },
  {
   "cell_type": "code",
   "execution_count": 12,
   "id": "79c1366f",
   "metadata": {},
   "outputs": [
    {
     "name": "stdout",
     "output_type": "stream",
     "text": [
      "Enter number of elements in list: 2\n",
      "Enter elements: apple\n",
      "Enter elements: bânnâ\n",
      "['Apple', 'Bânnâ']\n"
     ]
    }
   ],
   "source": [
    "lst = []\n",
    "num = int(input(\"Enter number of elements in list: \"))\n",
    "for i in range(1, num + 1):\n",
    "    ele = input(\"Enter elements: \")\n",
    "    lst.append(ele)\n",
    "\n",
    "\n",
    "    \n",
    "def ex14(l):\n",
    "    Lst = []\n",
    "    for i in l:\n",
    "        Lst.append(i.capitalize())\n",
    "    return Lst\n",
    "\n",
    "print(ex14(lst))"
   ]
  },
  {
   "cell_type": "code",
   "execution_count": null,
   "id": "0fcd6232",
   "metadata": {},
   "outputs": [],
   "source": []
  }
 ],
 "metadata": {
  "kernelspec": {
   "display_name": "Python 3 (ipykernel)",
   "language": "python",
   "name": "python3"
  },
  "language_info": {
   "codemirror_mode": {
    "name": "ipython",
    "version": 3
   },
   "file_extension": ".py",
   "mimetype": "text/x-python",
   "name": "python",
   "nbconvert_exporter": "python",
   "pygments_lexer": "ipython3",
   "version": "3.9.13"
  }
 },
 "nbformat": 4,
 "nbformat_minor": 5
}
