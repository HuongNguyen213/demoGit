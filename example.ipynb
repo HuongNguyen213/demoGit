{
 "cells": [
  {
   "cell_type": "code",
   "execution_count": 1,
   "id": "7e7b7fe7",
   "metadata": {},
   "outputs": [],
   "source": [
    "# Membership in string"
   ]
  },
  {
   "cell_type": "code",
   "execution_count": 2,
   "id": "1597dda0",
   "metadata": {},
   "outputs": [],
   "source": [
    "str1 = \"javapoint\""
   ]
  },
  {
   "cell_type": "code",
   "execution_count": 3,
   "id": "b02ae75f",
   "metadata": {},
   "outputs": [],
   "source": [
    "str2 = 'sssit'"
   ]
  },
  {
   "cell_type": "code",
   "execution_count": 4,
   "id": "5aa22780",
   "metadata": {},
   "outputs": [],
   "source": [
    "str4 ='java'"
   ]
  },
  {
   "cell_type": "code",
   "execution_count": 5,
   "id": "b7e62419",
   "metadata": {},
   "outputs": [],
   "source": [
    "str5 = \"it\""
   ]
  },
  {
   "cell_type": "code",
   "execution_count": 6,
   "id": "f936c9b2",
   "metadata": {},
   "outputs": [],
   "source": [
    "_a = str4 in str1"
   ]
  },
  {
   "cell_type": "code",
   "execution_count": 7,
   "id": "11d34fb5",
   "metadata": {},
   "outputs": [
    {
     "name": "stdout",
     "output_type": "stream",
     "text": [
      "str4 in str1 True\n"
     ]
    }
   ],
   "source": [
    "print('str4 in str1', _a)"
   ]
  },
  {
   "cell_type": "code",
   "execution_count": 8,
   "id": "13a5c2b9",
   "metadata": {},
   "outputs": [],
   "source": [
    "_b = str5 in str2"
   ]
  },
  {
   "cell_type": "code",
   "execution_count": 9,
   "id": "dbaab75b",
   "metadata": {},
   "outputs": [
    {
     "name": "stdout",
     "output_type": "stream",
     "text": [
      "str5 in str2 True\n"
     ]
    }
   ],
   "source": [
    "print('str5 in str2', _b)"
   ]
  },
  {
   "cell_type": "code",
   "execution_count": 10,
   "id": "b531cb74",
   "metadata": {},
   "outputs": [],
   "source": [
    "_c = str4 not in str1"
   ]
  },
  {
   "cell_type": "code",
   "execution_count": 11,
   "id": "44d6c6cf",
   "metadata": {},
   "outputs": [
    {
     "name": "stdout",
     "output_type": "stream",
     "text": [
      "str4 not in str1 False\n"
     ]
    }
   ],
   "source": [
    "print('str4 not in str1', _c)"
   ]
  },
  {
   "cell_type": "code",
   "execution_count": null,
   "id": "ef1f7d66",
   "metadata": {},
   "outputs": [],
   "source": []
  }
 ],
 "metadata": {
  "kernelspec": {
   "display_name": "Python 3 (ipykernel)",
   "language": "python",
   "name": "python3"
  },
  "language_info": {
   "codemirror_mode": {
    "name": "ipython",
    "version": 3
   },
   "file_extension": ".py",
   "mimetype": "text/x-python",
   "name": "python",
   "nbconvert_exporter": "python",
   "pygments_lexer": "ipython3",
   "version": "3.9.13"
  }
 },
 "nbformat": 4,
 "nbformat_minor": 5
}
