{
 "cells": [
  {
   "cell_type": "markdown",
   "id": "492692a3",
   "metadata": {},
   "source": [
    "### Given a string. the task is to check if the string is symmetrical and palindrome or not. A string is said to be symmetrical if both the halves of the string are the same and a string is said to be a palindrome string if one half of the string is the reverse of the other half or if a string appears same when read forward or backward.\n"
   ]
  },
  {
   "cell_type": "code",
   "execution_count": 6,
   "id": "16e210f8",
   "metadata": {},
   "outputs": [
    {
     "name": "stdout",
     "output_type": "stream",
     "text": [
      "amaama string is symmetrical\n",
      "amaama string is palindrome\n"
     ]
    }
   ],
   "source": [
    "def ex3(string):\n",
    "    half = int(len(string) / 2)\n",
    " \n",
    "    first_str = string[:half]\n",
    "    second_str = string[half:]\n",
    "\n",
    "\n",
    "    # symmetric\n",
    "    if first_str == second_str:\n",
    "        print(string, 'string is symmetrical')\n",
    "    else:\n",
    "        print(string, 'string is not symmetrical')\n",
    "\n",
    "    # palindrome\n",
    "    if first_str == second_str[::-1]:  # ''.join(reversed(second_str)) [slower]\n",
    "        print(string, 'string is palindrome')\n",
    "    else:\n",
    "        print(string, 'string is not palindrome')"
   ]
  },
  {
   "cell_type": "code",
   "execution_count": 8,
   "id": "e9f406d8",
   "metadata": {},
   "outputs": [
    {
     "name": "stdout",
     "output_type": "stream",
     "text": [
      "Enter your string:amaama\n"
     ]
    }
   ],
   "source": [
    "lst = input(\"Enter your string:\")"
   ]
  },
  {
   "cell_type": "code",
   "execution_count": 9,
   "id": "8a1e5aed",
   "metadata": {},
   "outputs": [
    {
     "name": "stdout",
     "output_type": "stream",
     "text": [
      "amaama string is symmetrical\n",
      "amaama string is palindrome\n"
     ]
    }
   ],
   "source": [
    "ex3(lst)"
   ]
  },
  {
   "cell_type": "code",
   "execution_count": null,
   "id": "406ef589",
   "metadata": {},
   "outputs": [],
   "source": []
  }
 ],
 "metadata": {
  "kernelspec": {
   "display_name": "Python 3 (ipykernel)",
   "language": "python",
   "name": "python3"
  },
  "language_info": {
   "codemirror_mode": {
    "name": "ipython",
    "version": 3
   },
   "file_extension": ".py",
   "mimetype": "text/x-python",
   "name": "python",
   "nbconvert_exporter": "python",
   "pygments_lexer": "ipython3",
   "version": "3.9.13"
  }
 },
 "nbformat": 4,
 "nbformat_minor": 5
}
