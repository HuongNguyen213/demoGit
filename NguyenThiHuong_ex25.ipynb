{
 "cells": [
  {
   "cell_type": "markdown",
   "id": "2c36ff02",
   "metadata": {},
   "source": [
    "### Exercise 25. Analyze the data of the national high school graduation exam 2022"
   ]
  },
  {
   "cell_type": "markdown",
   "id": "7909db77",
   "metadata": {},
   "source": [
    "#### The file diem_thi_thpt_2022.csv contains the scores of the national high school graduation exam in 2022.\n",
    "https://github.com/anhdung98/diem_thi_2022\n",
    "Let's write a Python program that does the following tasks:\n",
    "- Read data from file diem_thi_thpt_2022.csv from the link\n",
    "https://raw.githubusercontent.com/anhdung98/diem_thi_2022/main/diem_thi_thpt_2022.csv\n",
    "- Print to the screen the total number of candidates nationwide who took part in the exam.\n",
    "- Print to the screen the total number of candidates who have taken part in the foreign language exam (ngoai_ngu).\n",
    "- Print to the screen the total number of candidates who have taken part in the exam at the Examination Council \"Quang Ninh Department of Education and Training\" - the candidates with the first 2 digits of the registration number (sbd) is \"17\".\n",
    "- Draw a column chart showing the numbers of candidates taking the exams of subjects: Literature (ngu_van), Foreign languages (ngoai_ngu), Physics(vat_li), Geography (dia_li) at the Examination Council \"Quang Ninh Department of Education and Training\""
   ]
  },
  {
   "cell_type": "code",
   "execution_count": 20,
   "id": "5970d239",
   "metadata": {
    "scrolled": true
   },
   "outputs": [],
   "source": [
    "import pandas as pd \n",
    "\n",
    "\n",
    "url = \"https://raw.githubusercontent.com/anhdung98/diem_thi_2022/main/diem_thi_thpt_2022.csv\"\n",
    "dataset = pd.read_csv(url) # Lấy dữ liệu từ file work_data.csv đê phân tích và đặt tên dữ liệu đó là dataset\n"
   ]
  },
  {
   "cell_type": "markdown",
   "id": "673c58ae",
   "metadata": {},
   "source": [
    "### Read data from file diem_thi_thpt_2022.csv from the link \n",
    "https://raw.githubusercontent.com/anhdung98/diem_thi_2022/main/diem_thi_thpt_2022.csv"
   ]
  },
  {
   "cell_type": "code",
   "execution_count": 21,
   "id": "a28bdff7",
   "metadata": {},
   "outputs": [
    {
     "name": "stdout",
     "output_type": "stream",
     "text": [
      "             sbd  toan  ngu_van  ngoai_ngu  vat_li  hoa_hoc  sinh_hoc  \\\n",
      "0        1000001   3.6     5.00        4.0     NaN      NaN       NaN   \n",
      "1        1000002   8.4     6.75        7.6     NaN      NaN       NaN   \n",
      "2        1000003   5.8     7.50        5.0     NaN      NaN       NaN   \n",
      "3        1000004   7.4     7.50        8.6     NaN      NaN       NaN   \n",
      "4        1000005   7.2     8.50        9.0     NaN      NaN       NaN   \n",
      "...          ...   ...      ...        ...     ...      ...       ...   \n",
      "995436  64006584   8.4     6.75        4.6     NaN      NaN       NaN   \n",
      "995437  64006585   5.6     6.50        2.8     NaN      NaN       NaN   \n",
      "995438  64006586   5.8     6.00        6.6     NaN      NaN       NaN   \n",
      "995439  64006587   7.6     6.75        7.0     NaN      NaN       NaN   \n",
      "995440  64006588   6.6     4.50        3.2     NaN      NaN       NaN   \n",
      "\n",
      "        lich_su  dia_li  gdcd  \n",
      "0          2.75    6.00  8.75  \n",
      "1          8.50    7.50  8.25  \n",
      "2          7.25    5.50  8.75  \n",
      "3          7.50    6.50  7.50  \n",
      "4          8.00    8.50  8.25  \n",
      "...         ...     ...   ...  \n",
      "995436     6.50    6.75  9.00  \n",
      "995437     6.25    6.75  8.50  \n",
      "995438     7.25    8.00  8.00  \n",
      "995439     8.75    7.25  9.75  \n",
      "995440     3.00    6.00  7.50  \n",
      "\n",
      "[995441 rows x 10 columns]\n"
     ]
    }
   ],
   "source": [
    "print(dataset)"
   ]
  },
  {
   "cell_type": "markdown",
   "id": "51cf7dbf",
   "metadata": {},
   "source": [
    "### Print to the screen the total number of candidates nationwide who took part in the exam."
   ]
  },
  {
   "cell_type": "code",
   "execution_count": 26,
   "id": "0294245b",
   "metadata": {},
   "outputs": [
    {
     "name": "stdout",
     "output_type": "stream",
     "text": [
      "995441\n"
     ]
    }
   ],
   "source": [
    "total = dataset.shape[0]\n",
    "print(total)"
   ]
  },
  {
   "cell_type": "markdown",
   "id": "e35dce91",
   "metadata": {},
   "source": [
    "###  Print to the screen the total number of candidates who have taken part in the foreign language exam (ngoai_ngu)."
   ]
  },
  {
   "cell_type": "code",
   "execution_count": 35,
   "id": "fb267cee",
   "metadata": {},
   "outputs": [
    {
     "name": "stdout",
     "output_type": "stream",
     "text": [
      "870609\n"
     ]
    }
   ],
   "source": [
    "print(dataset.ngoai_ngu.count())"
   ]
  },
  {
   "cell_type": "markdown",
   "id": "a2c0a6c1",
   "metadata": {},
   "source": [
    "### Print to the screen the total number of candidates who have taken part in the exam at the Examination Council \"Quang Ninh Department of Education and Training\" - the candidates with the first 2 digits of the registration number (sbd) is \"17\"."
   ]
  },
  {
   "cell_type": "code",
   "execution_count": 53,
   "id": "e14f93f8",
   "metadata": {},
   "outputs": [
    {
     "name": "stdout",
     "output_type": "stream",
     "text": [
      "             sbd  toan  ngu_van  ngoai_ngu  vat_li  hoa_hoc  sinh_hoc  \\\n",
      "323507  17000001   6.2     7.75        3.0     NaN      NaN       NaN   \n",
      "323508  17000002   5.4     6.50        3.4     NaN      NaN       NaN   \n",
      "323509  17000003   3.2     5.75        3.6     NaN      NaN       NaN   \n",
      "323510  17000004   1.6     3.75        3.6     NaN      NaN       NaN   \n",
      "323511  17000005   3.2     4.25        2.6     NaN      NaN       NaN   \n",
      "...          ...   ...      ...        ...     ...      ...       ...   \n",
      "339126  17015714   4.0     4.75        2.8     NaN      NaN       NaN   \n",
      "339127  17015715   4.4     4.75        3.8     NaN      NaN       NaN   \n",
      "339128  17015716   4.0     2.50        3.2     NaN      NaN       NaN   \n",
      "339129  17015717   5.4     5.25        2.8     NaN      NaN       NaN   \n",
      "339130  17015718   8.6     6.75        8.2     NaN      NaN       NaN   \n",
      "\n",
      "        lich_su  dia_li  gdcd  \n",
      "323507     7.00    6.50  7.00  \n",
      "323508     6.00    5.75  6.50  \n",
      "323509     6.25    5.75  8.00  \n",
      "323510     8.00    4.75  5.50  \n",
      "323511     2.00    3.50  3.00  \n",
      "...         ...     ...   ...  \n",
      "339126     3.50    5.75  7.25  \n",
      "339127     5.00    5.75  6.25  \n",
      "339128     3.00    4.75  3.75  \n",
      "339129     1.75    4.75  6.75  \n",
      "339130      NaN     NaN   NaN  \n",
      "\n",
      "[15624 rows x 10 columns]\n"
     ]
    }
   ],
   "source": [
    "a = dataset[dataset['sbd'].astype(str).str.startswith('17')]\n",
    "print(a)"
   ]
  },
  {
   "cell_type": "markdown",
   "id": "7527174c",
   "metadata": {},
   "source": [
    "### Draw a column chart showing the numbers of candidates taking the exams of subjects: Literature (ngu_van), Foreign languages (ngoai_ngu), Physics(vat_li), Geography (dia_li) at the Examination Council \"Quang Ninh Department of Education and Training\"."
   ]
  },
  {
   "cell_type": "code",
   "execution_count": 57,
   "id": "03c8195b",
   "metadata": {},
   "outputs": [
    {
     "name": "stdout",
     "output_type": "stream",
     "text": [
      "Total number of candidates with sbd starting with '17': 15624\n",
      "['Literature', 'Foreign languages', 'Physics', 'Geography']\n",
      "[15458, 12662, 2673, 12769]\n"
     ]
    },
    {
     "data": {
      "image/png": "[encoded data removed]",
      "text/plain": [
       "<Figure size 640x480 with 1 Axes>"
      ]
     },
     "metadata": {},
     "output_type": "display_data"
    }
   ],
   "source": [
    "import matplotlib.pyplot as plt\n",
    "\n",
    "qninh_candidates = dataset[dataset['sbd'].astype(str).str.startswith('17')]\n",
    "num_qninh_candidates = len(qninh_candidates)\n",
    "print(f\"Total number of candidates with sbd starting with '17': {num_qninh_candidates}\")\n",
    "\n",
    "num_lit_candidates = qninh_candidates['ngu_van'].count()\n",
    "num_lang_candidates = qninh_candidates['ngoai_ngu'].count()\n",
    "num_phys_candidates = qninh_candidates['vat_li'].count()\n",
    "num_geo_candidates = qninh_candidates['dia_li'].count()\n",
    "\n",
    "subjects = ['Literature', 'Foreign languages', 'Physics', 'Geography']\n",
    "num_candidates = [num_lit_candidates, num_lang_candidates, num_phys_candidates, num_geo_candidates]\n",
    "\n",
    "x = subjects\n",
    "y = num_candidates\n",
    "\n",
    "print(subjects)\n",
    "print(num_candidates)\n",
    "\n",
    "plt.bar(x, y)\n",
    "plt.title('Number of candidates taking exams by subject in Quang Ninh')\n",
    "plt.xlabel('Subjects')\n",
    "plt.ylabel('Candidates')\n",
    "plt.show()"
   ]
  },
  {
   "cell_type": "code",
   "execution_count": 59,
   "id": "d8d415da",
   "metadata": {},
   "outputs": [
    {
     "name": "stdout",
     "output_type": "stream",
     "text": [
      "Empty DataFrame\n",
      "Columns: [sbd, toan, ngu_van, ngoai_ngu, vat_li, hoa_hoc, sinh_hoc, lich_su, dia_li, gdcd]\n",
      "Index: []\n"
     ]
    }
   ],
   "source": [
    "df_QN = dataset[dataset.sbd//10000000 == 17]\n",
    "print(df_QN)"
   ]
  },
  {
   "cell_type": "code",
   "execution_count": 62,
   "id": "b1af0802",
   "metadata": {},
   "outputs": [
    {
     "name": "stdout",
     "output_type": "stream",
     "text": [
      "Number of examiness at Quang Ninh is 0\n"
     ]
    }
   ],
   "source": [
    "print(\"Number of examiness at Quang Ninh is\", df_QN.sbd.count())"
   ]
  },
  {
   "cell_type": "code",
   "execution_count": null,
   "id": "7aee3710",
   "metadata": {},
   "outputs": [],
   "source": []
  }
 ],
 "metadata": {
  "kernelspec": {
   "display_name": "Python 3 (ipykernel)",
   "language": "python",
   "name": "python3"
  },
  "language_info": {
   "codemirror_mode": {
    "name": "ipython",
    "version": 3
   },
   "file_extension": ".py",
   "mimetype": "text/x-python",
   "name": "python",
   "nbconvert_exporter": "python",
   "pygments_lexer": "ipython3",
   "version": "3.9.13"
  }
 },
 "nbformat": 4,
 "nbformat_minor": 5
}
