{
 "cells": [
  {
   "cell_type": "markdown",
   "id": "52a6fdf8",
   "metadata": {},
   "source": [
    "#### Write a lambda function that takes a list of numbers as input and returns a new list with all the even numbers.Example\n",
    "Input: [2, 5, 6, 7, 8, 15, 18, 22, 7, 4, 11,100]\n",
    "Output: \n",
    "\n",
    "[2, 6, 8, 18, 22, 4, 100]\n"
   ]
  },
  {
   "cell_type": "code",
   "execution_count": 3,
   "id": "10565d04",
   "metadata": {},
   "outputs": [
    {
     "name": "stdout",
     "output_type": "stream",
     "text": [
      "Enter number of elements in list: 3\n",
      "Enter elements: 1\n",
      "Enter elements: 2\n",
      "Enter elements: 3\n",
      "[2]\n"
     ]
    }
   ],
   "source": [
    "lst = []\n",
    "num = int(input(\"Enter number of elements in list: \"))\n",
    "for i in range(1, num + 1):\n",
    "    ele = int(input(\"Enter elements: \"))\n",
    "    lst.append(ele)\n",
    "\n",
    "new_list = list(filter(lambda a: (a%2 == 0) , lst))\n",
    "\n",
    "print(new_list)\n"
   ]
  },
  {
   "cell_type": "code",
   "execution_count": 38,
   "id": "77dc2324",
   "metadata": {},
   "outputs": [
    {
     "name": "stdout",
     "output_type": "stream",
     "text": [
      "Enter a list of number: 1 2 3 4\n",
      "[2, 4]\n"
     ]
    }
   ],
   "source": [
    "lst1 = []\n",
    "lst = input(\"Enter a list of number: \")\n",
    "for i in lst.split():\n",
    "    lst1.append(int(i))\n",
    "\n",
    "new_list = list(filter(lambda a: (a%2 == 0) , lst1))\n",
    "\n",
    "print(new_list)"
   ]
  },
  {
   "cell_type": "code",
   "execution_count": null,
   "id": "58d46c74",
   "metadata": {},
   "outputs": [],
   "source": []
  }
 ],
 "metadata": {
  "kernelspec": {
   "display_name": "Python 3 (ipykernel)",
   "language": "python",
   "name": "python3"
  },
  "language_info": {
   "codemirror_mode": {
    "name": "ipython",
    "version": 3
   },
   "file_extension": ".py",
   "mimetype": "text/x-python",
   "name": "python",
   "nbconvert_exporter": "python",
   "pygments_lexer": "ipython3",
   "version": "3.9.13"
  }
 },
 "nbformat": 4,
 "nbformat_minor": 5
}
