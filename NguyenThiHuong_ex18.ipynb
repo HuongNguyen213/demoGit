{
 "cells": [
  {
   "cell_type": "markdown",
   "id": "e7896a57",
   "metadata": {},
   "source": [
    "#### Write a Python program to read an entire text file and print all lines containing a given word."
   ]
  },
  {
   "cell_type": "code",
   "execution_count": 23,
   "id": "d150ab23",
   "metadata": {},
   "outputs": [],
   "source": [
    "f = open('data/text1.txt')"
   ]
  },
  {
   "cell_type": "code",
   "execution_count": 24,
   "id": "8a264c2a",
   "metadata": {},
   "outputs": [
    {
     "name": "stdout",
     "output_type": "stream",
     "text": [
      "hello world\n",
      "\n"
     ]
    }
   ],
   "source": [
    "print(f.read())"
   ]
  },
  {
   "cell_type": "code",
   "execution_count": 25,
   "id": "604b6cb1",
   "metadata": {},
   "outputs": [],
   "source": [
    "f.close()"
   ]
  },
  {
   "cell_type": "code",
   "execution_count": 32,
   "id": "c09f23b2",
   "metadata": {},
   "outputs": [
    {
     "name": "stdout",
     "output_type": "stream",
     "text": [
      "hello world\n",
      "\n"
     ]
    }
   ],
   "source": [
    "import os\n",
    "def readBO(c):\n",
    "    if os.path.exists(\"data/text1.txt\"):\n",
    "        f = open(\"data/text1.txt\", \"r\")\n",
    "        listt = f.readlines()\n",
    "\n",
    "        if listt != []:\n",
    "            for i in listt:\n",
    "                if c in i:\n",
    "                    print(i)\n",
    "        else:\n",
    "            raise ValueError(\"file is empty!\")\n",
    "        \n",
    "        f.close()\n",
    "    else:\n",
    "        raise FileExistsError(\"The file does not exists!\")\n",
    "    \n",
    "readBO(\"hello\")"
   ]
  },
  {
   "cell_type": "code",
   "execution_count": null,
   "id": "24bcf9c4",
   "metadata": {},
   "outputs": [],
   "source": []
  }
 ],
 "metadata": {
  "kernelspec": {
   "display_name": "Python 3 (ipykernel)",
   "language": "python",
   "name": "python3"
  },
  "language_info": {
   "codemirror_mode": {
    "name": "ipython",
    "version": 3
   },
   "file_extension": ".py",
   "mimetype": "text/x-python",
   "name": "python",
   "nbconvert_exporter": "python",
   "pygments_lexer": "ipython3",
   "version": "3.9.13"
  }
 },
 "nbformat": 4,
 "nbformat_minor": 5
}
